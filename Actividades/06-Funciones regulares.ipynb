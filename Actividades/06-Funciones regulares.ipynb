{
 "cells": [
  {
   "cell_type": "markdown",
   "metadata": {},
   "source": [
    "# 🎯 Ejercicios Prácticos de Expresiones Regulares en Python\n",
    "\n",
    "**Instrucciones:**\n",
    "- Completa cada ejercicio escribiendo el patrón regex correspondiente\n",
    "- Ejecuta cada celda para ver si tu solución es correcta\n",
    "- Usa la cheat sheet como referencia\n",
    "- No te preocupes si no aciertas a la primera, ¡la práctica hace al maestro!\n",
    "\n",
    "---"
   ]
  },
  {
   "cell_type": "markdown",
   "metadata": {},
   "source": [
    "**Alumno**\n",
    "- Juan Daniel Kao Pech\n",
    "\n",
    "---"
   ]
  },
  {
   "cell_type": "code",
   "execution_count": null,
   "metadata": {},
   "outputs": [],
   "source": [
    "# Importar el módulo necesario\n",
    "import re"
   ]
  },
  {
   "cell_type": "markdown",
   "metadata": {},
   "source": [
    "---\n",
    "## 📘 NIVEL BÁSICO - Caracteres y cuantificadores\n",
    "---"
   ]
  },
  {
   "cell_type": "markdown",
   "metadata": {},
   "source": [
    "### Ejercicio 1: Encontrar todos los números\n",
    "Escribe un patrón que encuentre todos los números en el texto"
   ]
  },
  {
   "cell_type": "code",
   "execution_count": null,
   "metadata": {},
   "outputs": [
    {
     "name": "stdout",
     "output_type": "stream",
     "text": [
      "Resultado: ['3', '15', '7']\n",
      "Esperado: ['3', '15', '7']\n"
     ]
    }
   ],
   "source": [
    "texto1 = \"Tengo 3 manzanas, 15 naranjas y 7 plátanos\"\n",
    "patron1 = r\"\\d+\"  \n",
    "\n",
    "resultado1 = re.findall(patron1, texto1)\n",
    "print(f\"Resultado: {resultado1}\")\n",
    "print(f\"Esperado: ['3', '15', '7']\")"
   ]
  },
  {
   "cell_type": "markdown",
   "metadata": {},
   "source": [
    "### Ejercicio 2: Encontrar palabras que empiecen con 'p'\n",
    "Escribe un patrón que encuentre todas las palabras que empiecen con 'p'"
   ]
  },
  {
   "cell_type": "code",
   "execution_count": null,
   "metadata": {},
   "outputs": [
    {
     "name": "stdout",
     "output_type": "stream",
     "text": [
      "Resultado: ['perro', 'pato', 'parque', 'pelota']\n",
      "Esperado: ['perro', 'pato', 'parque', 'pelota']\n"
     ]
    }
   ],
   "source": [
    "texto2 = \"El perro y el pato juegan en el parque con la pelota\"\n",
    "patron2 = r\"p+\\w*\"\n",
    "\n",
    "resultado2 = re.findall(patron2, texto2)\n",
    "print(f\"Resultado: {resultado2}\")\n",
    "print(f\"Esperado: ['perro', 'pato', 'parque', 'pelota']\")"
   ]
  },
  {
   "cell_type": "markdown",
   "metadata": {},
   "source": [
    "### Ejercicio 3: Encontrar palabras de exactamente 5 letras\n",
    "Escribe un patrón que encuentre palabras de exactamente 5 letras"
   ]
  },
  {
   "cell_type": "code",
   "execution_count": null,
   "metadata": {},
   "outputs": [
    {
     "name": "stdout",
     "output_type": "stream",
     "text": [
      "Resultado: ['casas', 'rojas', 'están', 'cerca', 'playa']\n",
      "Esperado: ['casas', 'rojas', 'están', 'cerca', 'playa']\n"
     ]
    }
   ],
   "source": [
    "texto3 = \"Las casas rojas están cerca de la playa bonita\"\n",
    "patron3 = r\"\\b\\w{5}\\b\"\n",
    "\n",
    "resultado3 = re.findall(patron3, texto3, re.IGNORECASE)\n",
    "print(f\"Resultado: {resultado3}\")\n",
    "print(f\"Esperado: ['casas', 'rojas', 'están', 'cerca', 'playa']\")"
   ]
  },
  {
   "cell_type": "markdown",
   "metadata": {},
   "source": [
    "### Ejercicio 4: Encontrar vocales\n",
    "Escribe un patrón que encuentre todas las vocales (a, e, i, o, u)"
   ]
  },
  {
   "cell_type": "code",
   "execution_count": null,
   "metadata": {},
   "outputs": [
    {
     "name": "stdout",
     "output_type": "stream",
     "text": [
      "Resultado: ['o', 'a', 'u', 'o']\n",
      "Esperado: ['o', 'a', 'u', 'o']\n"
     ]
    }
   ],
   "source": [
    "texto4 = \"Hola mundo\"\n",
    "patron4 = r\"[aeiouAEIOU]\"\n",
    "\n",
    "resultado4 = re.findall(patron4, texto4, re.IGNORECASE)\n",
    "print(f\"Resultado: {resultado4}\")\n",
    "print(f\"Esperado: ['o', 'a', 'u', 'o']\")"
   ]
  },
  {
   "cell_type": "markdown",
   "metadata": {},
   "source": [
    "### Ejercicio 5: Encontrar palabras que terminen en 'ción'\n",
    "Escribe un patrón que encuentre palabras terminadas en 'ción'"
   ]
  },
  {
   "cell_type": "code",
   "execution_count": null,
   "metadata": {},
   "outputs": [
    {
     "name": "stdout",
     "output_type": "stream",
     "text": [
      "Resultado: ['educación', 'comunicación', 'nación']\n",
      "Esperado: ['educación', 'comunicación', 'nación']\n"
     ]
    }
   ],
   "source": [
    "texto5 = \"La educación y la comunicación son importantes para la nación\"\n",
    "patron5 = r\"\\w+ción\"\n",
    "\n",
    "resultado5 = re.findall(patron5, texto5)\n",
    "print(f\"Resultado: {resultado5}\")\n",
    "print(f\"Esperado: ['educación', 'comunicación', 'nación']\")"
   ]
  },
  {
   "cell_type": "markdown",
   "metadata": {},
   "source": [
    "---\n",
    "## 📗 NIVEL INTERMEDIO - Grupos y validación\n",
    "---"
   ]
  },
  {
   "cell_type": "markdown",
   "metadata": {},
   "source": [
    "### Ejercicio 6: Validar formato de fecha DD/MM/YYYY\n",
    "Escribe un patrón que valide fechas en formato DD/MM/YYYY"
   ]
  },
  {
   "cell_type": "code",
   "execution_count": null,
   "metadata": {},
   "outputs": [
    {
     "name": "stdout",
     "output_type": "stream",
     "text": [
      "Validación de fechas:\n",
      "  25/12/2023: ✗ Inválida\n",
      "  05/08/1990: ✗ Inválida\n",
      "  32/13/2020: ✗ Inválida\n",
      "  15-07-2021: ✗ Inválida\n",
      "\n",
      "Esperado: primeras dos válidas, últimas dos inválidas\n"
     ]
    }
   ],
   "source": [
    "fechas6 = [\"25/12/2023\", \"05/08/1990\", \"32/13/2020\", \"15-07-2021\"]\n",
    "patron6 = r\"(0[1-9]|[12][0-9]|3[01])/(0[1-9]|1[0-2])/\\d{4}\"\n",
    "\n",
    "print(\"Validación de fechas:\")\n",
    "for fecha in fechas6:\n",
    "    resultado = \"✓ Válida\" if re.fullmatch(patron6, fecha) else \"✗ Inválida\"\n",
    "    print(f\"  {fecha}: {resultado}\")\n",
    "print(\"\\nEsperado: primeras dos válidas, últimas dos inválidas\")"
   ]
  },
  {
   "cell_type": "markdown",
   "metadata": {},
   "source": [
    "### Ejercicio 7: Extraer código de área y número de teléfono\n",
    "Extrae el código de área y el número por separado del formato: (XXX) XXX-XXXX"
   ]
  },
  {
   "cell_type": "code",
   "execution_count": null,
   "metadata": {},
   "outputs": [],
   "source": [
    "texto7 = \"Mi teléfono es (555) 123-4567 y el de mi hermano es (999) 888-7777\"\n",
    "patron7 = r\"\"  # COMPLETA AQUÍ (usa grupos de captura)\n",
    "\n",
    "resultado7 = re.findall(patron7, texto7)\n",
    "print(f\"Resultado: {resultado7}\")\n",
    "print(f\"Esperado: [('555', '123', '4567'), ('999', '888', '7777')]\")"
   ]
  },
  {
   "cell_type": "markdown",
   "metadata": {},
   "source": [
    "### Ejercicio 8: Validar dirección de email\n",
    "Escribe un patrón que valide emails básicos (usuario@dominio.ext)"
   ]
  },
  {
   "cell_type": "code",
   "execution_count": null,
   "metadata": {},
   "outputs": [],
   "source": [
    "emails8 = [\"usuario@ejemplo.com\", \"test.user@mail.co\", \"invalid@\", \"@invalid.com\", \"no-arroba.com\"]\n",
    "patron8 = r\"\"  # COMPLETA AQUÍ\n",
    "\n",
    "print(\"Validación de emails:\")\n",
    "for email in emails8:\n",
    "    resultado = \"✓ Válido\" if re.fullmatch(patron8, email) else \"✗ Inválido\"\n",
    "    print(f\"  {email}: {resultado}\")\n",
    "print(\"\\nEsperado: primeros dos válidos, últimos tres inválidos\")"
   ]
  },
  {
   "cell_type": "markdown",
   "metadata": {},
   "source": [
    "### Ejercicio 9: Extraer hashtags de un tweet\n",
    "Encuentra todos los hashtags (palabras que empiezan con #)"
   ]
  },
  {
   "cell_type": "code",
   "execution_count": null,
   "metadata": {},
   "outputs": [],
   "source": [
    "texto9 = \"Me encanta #Python y #RegEx! También uso #JavaScript #coding\"\n",
    "patron9 = r\"\"  # COMPLETA AQUÍ\n",
    "\n",
    "resultado9 = re.findall(patron9, texto9)\n",
    "print(f\"Resultado: {resultado9}\")\n",
    "print(f\"Esperado: ['#Python', '#RegEx', '#JavaScript', '#coding']\")"
   ]
  },
  {
   "cell_type": "markdown",
   "metadata": {},
   "source": [
    "### Ejercicio 10: Extraer nombres y apellidos\n",
    "Extrae nombres (Primera letra mayúscula) y apellidos por separado"
   ]
  },
  {
   "cell_type": "code",
   "execution_count": null,
   "metadata": {},
   "outputs": [],
   "source": [
    "texto10 = \"Juan Pérez, María García y Carlos López están aquí\"\n",
    "patron10 = r\"\"  # COMPLETA AQUÍ (usa grupos de captura)\n",
    "\n",
    "resultado10 = re.findall(patron10, texto10)\n",
    "print(f\"Resultado: {resultado10}\")\n",
    "print(f\"Esperado: [('Juan', 'Pérez'), ('María', 'García'), ('Carlos', 'López')]\")"
   ]
  },
  {
   "cell_type": "markdown",
   "metadata": {},
   "source": [
    "---\n",
    "## 📙 NIVEL AVANZADO - Lookahead, Lookbehind y sustituciones\n",
    "---"
   ]
  },
  {
   "cell_type": "markdown",
   "metadata": {},
   "source": [
    "### Ejercicio 11: Extraer precios (números antes de €)\n",
    "Usa lookahead para extraer solo los números que tienen € después"
   ]
  },
  {
   "cell_type": "code",
   "execution_count": null,
   "metadata": {},
   "outputs": [],
   "source": [
    "texto11 = \"Manzanas: 2€, Naranjas: 3€, tengo 50 en el banco y Plátanos: 1€\"\n",
    "patron11 = r\"\"  # COMPLETA AQUÍ (usa lookahead)\n",
    "\n",
    "resultado11 = re.findall(patron11, texto11)\n",
    "print(f\"Resultado: {resultado11}\")\n",
    "print(f\"Esperado: ['2', '3', '1']\")"
   ]
  },
  {
   "cell_type": "markdown",
   "metadata": {},
   "source": [
    "### Ejercicio 12: Extraer palabras que NO están seguidas de números\n",
    "Usa negative lookahead para encontrar palabras no seguidas de dígitos"
   ]
  },
  {
   "cell_type": "code",
   "execution_count": null,
   "metadata": {},
   "outputs": [],
   "source": [
    "texto12 = \"casa123 perro gato456 árbol montaña999 río\"\n",
    "patron12 = r\"\"  # COMPLETA AQUÍ (usa negative lookahead)\n",
    "\n",
    "resultado12 = re.findall(patron12, texto12, re.IGNORECASE)\n",
    "print(f\"Resultado: {resultado12}\")\n",
    "print(f\"Esperado: ['perro', 'árbol', 'río']\")"
   ]
  },
  {
   "cell_type": "markdown",
   "metadata": {},
   "source": [
    "### Ejercicio 13: Censurar palabras malsonantes\n",
    "Reemplaza las palabras 'tonto' y 'malo' con asteriscos"
   ]
  },
  {
   "cell_type": "code",
   "execution_count": null,
   "metadata": {},
   "outputs": [],
   "source": [
    "texto13 = \"Eres muy tonto y malo, no seas tonto\"\n",
    "patron13 = r\"\"  # COMPLETA AQUÍ\n",
    "\n",
    "resultado13 = re.sub(patron13, \"***\", texto13)\n",
    "print(f\"Resultado: {resultado13}\")\n",
    "print(f\"Esperado: 'Eres muy *** y ***, no seas ***'\")"
   ]
  },
  {
   "cell_type": "markdown",
   "metadata": {},
   "source": [
    "### Ejercicio 14: Formatear números de tarjeta de crédito\n",
    "Convierte 1234567890123456 a 1234-5678-9012-3456"
   ]
  },
  {
   "cell_type": "code",
   "execution_count": null,
   "metadata": {},
   "outputs": [],
   "source": [
    "texto14 = \"1234567890123456\"\n",
    "patron14 = r\"\"  # COMPLETA AQUÍ (usa grupos)\n",
    "replacement14 = r\"\"  # COMPLETA el replacement (ej: r\"\\1-\\2-\\3-\\4\")\n",
    "\n",
    "resultado14 = re.sub(patron14, replacement14, texto14)\n",
    "print(f\"Resultado: {resultado14}\")\n",
    "print(f\"Esperado: '1234-5678-9012-3456'\")"
   ]
  },
  {
   "cell_type": "markdown",
   "metadata": {},
   "source": [
    "### Ejercicio 15: Validar contraseña segura\n",
    "Mínimo 8 caracteres, al menos 1 mayúscula, 1 minúscula, 1 número y 1 símbolo"
   ]
  },
  {
   "cell_type": "code",
   "execution_count": null,
   "metadata": {},
   "outputs": [],
   "source": [
    "passwords15 = [\"Pass123!\", \"weakpass\", \"STRONG123!\", \"Secure@Pass1\", \"short1!\"]\n",
    "patron15 = r\"\"  # COMPLETA AQUÍ (usa lookahead múltiples)\n",
    "\n",
    "print(\"Validación de contraseñas:\")\n",
    "for pwd in passwords15:\n",
    "    resultado = \"✓ Segura\" if re.fullmatch(patron15, pwd) else \"✗ Insegura\"\n",
    "    print(f\"  {pwd}: {resultado}\")\n",
    "print(\"\\nEsperado: primero y cuarto seguros, resto inseguros\")"
   ]
  },
  {
   "cell_type": "markdown",
   "metadata": {},
   "source": [
    "---\n",
    "## 📕 NIVEL EXPERTO - Casos reales complejos\n",
    "---"
   ]
  },
  {
   "cell_type": "markdown",
   "metadata": {},
   "source": [
    "### Ejercicio 16: Extraer URLs de un texto\n",
    "Encuentra todas las URLs (http:// o https://)"
   ]
  },
  {
   "cell_type": "code",
   "execution_count": null,
   "metadata": {},
   "outputs": [],
   "source": [
    "texto16 = \"\"\"\n",
    "Visita https://www.ejemplo.com y también http://test.org/pagina?id=123\n",
    "No olvides https://github.com/usuario/repo#readme\n",
    "\"\"\"\n",
    "patron16 = r\"\"  # COMPLETA AQUÍ\n",
    "\n",
    "resultado16 = re.findall(patron16, texto16)\n",
    "print(\"URLs encontradas:\")\n",
    "for url in resultado16:\n",
    "    print(f\"  {url}\")\n",
    "print(\"\\nEsperado: 3 URLs\")"
   ]
  },
  {
   "cell_type": "markdown",
   "metadata": {},
   "source": [
    "### Ejercicio 17: Validar IPv4\n",
    "Valida direcciones IP (4 números entre 0-255 separados por puntos)"
   ]
  },
  {
   "cell_type": "code",
   "execution_count": null,
   "metadata": {},
   "outputs": [],
   "source": [
    "ips17 = [\"192.168.1.1\", \"255.255.255.0\", \"999.999.999.999\", \"192.168.1\", \"10.0.0.1\"]\n",
    "patron17 = r\"\"  # COMPLETA AQUÍ\n",
    "\n",
    "print(\"Validación de IPs:\")\n",
    "for ip in ips17:\n",
    "    if re.fullmatch(patron17, ip):\n",
    "        octetos = ip.split('.')\n",
    "        if all(0 <= int(octeto) <= 255 for octeto in octetos):\n",
    "            resultado = \"✓ Válida\"\n",
    "        else:\n",
    "            resultado = \"✗ Inválida\"\n",
    "    else:\n",
    "        resultado = \"✗ Inválida\"\n",
    "    print(f\"  {ip}: {resultado}\")\n",
    "print(\"\\nEsperado: primera, segunda y quinta válidas\")"
   ]
  },
  {
   "cell_type": "markdown",
   "metadata": {},
   "source": [
    "### Ejercicio 18: Extraer menciones de Twitter (@usuario)\n",
    "Encuentra todas las menciones que empiezan con @"
   ]
  },
  {
   "cell_type": "code",
   "execution_count": null,
   "metadata": {},
   "outputs": [],
   "source": [
    "texto18 = \"Hola @juan_perez y @maria123, ¿vieron lo que dijo @admin?\"\n",
    "patron18 = r\"\"  # COMPLETA AQUÍ\n",
    "\n",
    "resultado18 = re.findall(patron18, texto18)\n",
    "print(f\"Resultado: {resultado18}\")\n",
    "print(f\"Esperado: ['@juan_perez', '@maria123', '@admin']\")"
   ]
  },
  {
   "cell_type": "markdown",
   "metadata": {},
   "source": [
    "### Ejercicio 19: Convertir formato de fecha\n",
    "Convierte DD/MM/YYYY a YYYY-MM-DD"
   ]
  },
  {
   "cell_type": "code",
   "execution_count": null,
   "metadata": {},
   "outputs": [],
   "source": [
    "texto19 = \"La fecha es 25/12/2023 y otra es 01/01/2024\"\n",
    "patron19 = r\"\"  # COMPLETA AQUÍ (usa grupos)\n",
    "replacement19 = r\"\"  # COMPLETA el replacement\n",
    "\n",
    "resultado19 = re.sub(patron19, replacement19, texto19)\n",
    "print(f\"Resultado: {resultado19}\")\n",
    "print(f\"Esperado: 'La fecha es 2023-12-25 y otra es 2024-01-01'\")"
   ]
  },
  {
   "cell_type": "markdown",
   "metadata": {},
   "source": [
    "### Ejercicio 20: Limpiar HTML\n",
    "Elimina todas las etiquetas HTML de un texto"
   ]
  },
  {
   "cell_type": "code",
   "execution_count": null,
   "metadata": {},
   "outputs": [],
   "source": [
    "texto20 = \"<p>Este es un <strong>texto</strong> con <a href='#'>etiquetas</a> HTML</p>\"\n",
    "patron20 = r\"\"  # COMPLETA AQUÍ\n",
    "\n",
    "resultado20 = re.sub(patron20, \"\", texto20)\n",
    "print(f\"Resultado: {resultado20}\")\n",
    "print(f\"Esperado: 'Este es un texto con etiquetas HTML'\")"
   ]
  },
  {
   "cell_type": "markdown",
   "metadata": {},
   "source": [
    "---\n",
    "## 🏆 DESAFÍOS FINALES\n",
    "---"
   ]
  },
  {
   "cell_type": "markdown",
   "metadata": {},
   "source": [
    "### Desafío 1: Parser de logs\n",
    "Extrae timestamp, nivel y mensaje de líneas de log"
   ]
  },
  {
   "cell_type": "code",
   "execution_count": null,
   "metadata": {},
   "outputs": [],
   "source": [
    "log_lines = [\n",
    "    \"[2023-12-25 10:30:45] ERROR: Connection failed\",\n",
    "    \"[2023-12-25 10:31:12] INFO: Server started\",\n",
    "    \"[2023-12-25 10:31:50] WARNING: Low memory\"\n",
    "]\n",
    "patron_desafio1 = r\"\"  # COMPLETA AQUÍ\n",
    "\n",
    "print(\"Parser de logs:\")\n",
    "for line in log_lines:\n",
    "    match = re.search(patron_desafio1, line)\n",
    "    if match:\n",
    "        print(f\"  Timestamp: {match.group(1)}, Nivel: {match.group(2)}, Mensaje: {match.group(3)}\")"
   ]
  },
  {
   "cell_type": "markdown",
   "metadata": {},
   "source": [
    "### Desafío 2: Validar número de tarjeta de crédito con espacios o guiones\n",
    "Acepta formatos: 1234567890123456, 1234 5678 9012 3456, 1234-5678-9012-3456"
   ]
  },
  {
   "cell_type": "code",
   "execution_count": null,
   "metadata": {},
   "outputs": [],
   "source": [
    "tarjetas = [\"1234567890123456\", \"1234 5678 9012 3456\", \"1234-5678-9012-3456\", \"1234567890\", \"abcd-efgh-ijkl-mnop\"]\n",
    "patron_desafio2 = r\"\"  # COMPLETA AQUÍ\n",
    "\n",
    "print(\"Validación de tarjetas:\")\n",
    "for tarjeta in tarjetas:\n",
    "    resultado = \"✓ Válida\" if re.fullmatch(patron_desafio2, tarjeta) else \"✗ Inválida\"\n",
    "    print(f\"  {tarjeta}: {resultado}\")"
   ]
  },
  {
   "cell_type": "markdown",
   "metadata": {},
   "source": [
    "### Desafío 3: Extraer información de un CSV embebido\n",
    "Extrae nombre, apellido, edad y ciudad de cada persona"
   ]
  },
  {
   "cell_type": "code",
   "execution_count": null,
   "metadata": {},
   "outputs": [],
   "source": [
    "csv_texto = \"Juan,Pérez,30,Madrid;María,García,25,Barcelona;Carlos,López,35,Valencia\"\n",
    "patron_desafio3 = r\"\"  # COMPLETA AQUÍ\n",
    "\n",
    "resultado_desafio3 = re.findall(patron_desafio3, csv_texto)\n",
    "print(\"Personas extraídas:\")\n",
    "for persona in resultado_desafio3:\n",
    "    print(f\"  Nombre: {persona[0]}, Apellido: {persona[1]}, Edad: {persona[2]}, Ciudad: {persona[3]}\")"
   ]
  },
  {
   "cell_type": "markdown",
   "metadata": {},
   "source": [
    "---\n",
    "## ✅ ¡Ejercicios completados!\n",
    "\n",
    "\n",
    "### Recursos adicionales:\n",
    "- 📚 [Documentación oficial de Python - módulo re](https://docs.python.org/3/library/re.html)\n",
    "- 🔧 [regex101.com](https://regex101.com) - Herramienta online para probar patrones\n",
    "- 📖 [Cheat sheet de expresiones regulares](https://www.rexegg.com/regex-quickstart.html)\n",
    "\n",
    "**¡Sigue practicando! 💪**"
   ]
  }
 ],
 "metadata": {
  "kernelspec": {
   "display_name": ".venv",
   "language": "python",
   "name": "python3"
  },
  "language_info": {
   "codemirror_mode": {
    "name": "ipython",
    "version": 3
   },
   "file_extension": ".py",
   "mimetype": "text/x-python",
   "name": "python",
   "nbconvert_exporter": "python",
   "pygments_lexer": "ipython3",
   "version": "3.13.1"
  }
 },
 "nbformat": 4,
 "nbformat_minor": 4
}
