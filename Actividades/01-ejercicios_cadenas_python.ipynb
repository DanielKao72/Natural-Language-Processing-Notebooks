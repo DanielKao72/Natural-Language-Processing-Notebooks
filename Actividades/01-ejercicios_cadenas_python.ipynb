{
 "cells": [
  {
   "cell_type": "markdown",
   "metadata": {},
   "source": [
    "# Ejercicios de Cadenas en Python 🐍\n",
    "\n",
    "Este notebook contiene una serie de ejercicios progresivos para practicar el manejo de cadenas en Python.\n",
    "Usa tu cheat sheet de cadenas como referencia para resolver estos problemas.\n",
    "\n",
    "## Instrucciones:\n",
    "- Ejecuta cada celda después de escribir tu código\n",
    "- Usa los métodos de cadenas que aparecen en tu cheat sheet\n",
    "- Si te quedas atascado, revisa los ejemplos de la cheat sheet\n",
    "\n",
    "---\n",
    "\n",
    "##### **_Nombre:_** Juan Daniel Kao Pech"
   ]
  },
  {
   "cell_type": "markdown",
   "metadata": {},
   "source": [
    "## 🟢 Ejercicios Básicos\n",
    "\n",
    "### Ejercicio 1: Información básica de cadenas\n",
    "Dada la siguiente cadena, obtén su longitud, conviértela a mayúsculas y minúsculas."
   ]
  },
  {
   "cell_type": "code",
   "execution_count": 1,
   "metadata": {},
   "outputs": [
    {
     "name": "stdout",
     "output_type": "stream",
     "text": [
      "Texto original: Hola Mundo desde Python\n",
      "Longitud: 23\n",
      "Mayúsculas: HOLA MUNDO DESDE PYTHON\n",
      "Minúsculas: hola mundo desde python\n"
     ]
    }
   ],
   "source": [
    "texto = \"Hola Mundo desde Python\"\n",
    "\n",
    "# Tu código aquí:\n",
    "longitud = len(texto)\n",
    "mayusculas = texto.upper()\n",
    "minusculas = texto.lower()\n",
    "\n",
    "print(f\"Texto original: {texto}\")\n",
    "print(f\"Longitud: {longitud}\")\n",
    "print(f\"Mayúsculas: {mayusculas}\")\n",
    "print(f\"Minúsculas: {minusculas}\")"
   ]
  },
  {
   "cell_type": "markdown",
   "metadata": {},
   "source": [
    "### Ejercicio 2: Búsqueda en cadenas\n",
    "Verifica si la palabra \"Python\" está en el texto y encuentra su posición."
   ]
  },
  {
   "cell_type": "code",
   "execution_count": 2,
   "metadata": {},
   "outputs": [
    {
     "name": "stdout",
     "output_type": "stream",
     "text": [
      "¿Contiene 'Python'?: True\n",
      "Posición de 'Python': 24\n",
      "Número de 'a': 5\n"
     ]
    }
   ],
   "source": [
    "texto = \"Me encanta programar en Python porque es fácil\"\n",
    "\n",
    "# Tu código aquí:\n",
    "contiene_python = \"Python\" in texto\n",
    "posicion = texto.find(\"Python\")\n",
    "cuenta_a = texto.count(\"a\") + texto.count(\"á\")\n",
    "\n",
    "print(f\"¿Contiene 'Python'?: {contiene_python}\")\n",
    "print(f\"Posición de 'Python': {posicion}\")\n",
    "print(f\"Número de 'a': {cuenta_a}\")"
   ]
  },
  {
   "cell_type": "markdown",
   "metadata": {},
   "source": [
    "### Ejercicio 3: Slicing (rebanado) de cadenas\n",
    "Extrae diferentes partes de la cadena usando slicing."
   ]
  },
  {
   "cell_type": "code",
   "execution_count": 3,
   "metadata": {},
   "outputs": [
    {
     "name": "stdout",
     "output_type": "stream",
     "text": [
      "Frase original: Python es genial para programar\n",
      "Primeros 6: 'Python'\n",
      "Últimos 9: 'programar'\n",
      "Palabra del medio: 'genial'\n",
      "Cada segundo carácter: 'Pto sgna aapormr'\n",
      "Al revés: 'ramargorp arap laineg se nohtyP'\n"
     ]
    }
   ],
   "source": [
    "frase = \"Python es genial para programar\"\n",
    "\n",
    "# Tu código aquí:\n",
    "primeros_6 = frase[:6]\n",
    "ultimos_9 = frase[-9:]\n",
    "palabra_medio = frase[10:16]\n",
    "cada_segundo = frase[::2]\n",
    "reverso = frase[::-1]\n",
    "\n",
    "print(f\"Frase original: {frase}\")\n",
    "print(f\"Primeros 6: '{primeros_6}'\")\n",
    "print(f\"Últimos 9: '{ultimos_9}'\")\n",
    "print(f\"Palabra del medio: '{palabra_medio}'\")\n",
    "print(f\"Cada segundo carácter: '{cada_segundo}'\")\n",
    "print(f\"Al revés: '{reverso}'\")"
   ]
  },
  {
   "cell_type": "markdown",
   "metadata": {},
   "source": [
    "## 🟡 Ejercicios Intermedios\n",
    "\n",
    "### Ejercicio 4: Limpieza de texto\n",
    "Limpia el siguiente texto eliminando espacios extra y caracteres no deseados."
   ]
  },
  {
   "cell_type": "code",
   "execution_count": 4,
   "metadata": {},
   "outputs": [
    {
     "name": "stdout",
     "output_type": "stream",
     "text": [
      "Original: '   ¡¡¡ HOLA MUNDO !!!   '\n",
      "Sin espacios: '¡¡¡ HOLA MUNDO !!!'\n",
      "Sin signos: 'HOLA MUNDO'\n",
      "Capitalizado: '¡¡¡ hola mundo !!!'\n",
      "Resultado final: 'Hola mundo'\n"
     ]
    }
   ],
   "source": [
    "texto_sucio = \"   ¡¡¡ HOLA MUNDO !!!   \"\n",
    "\n",
    "# Tu código aquí:\n",
    "sin_espacios = texto_sucio.strip()\n",
    "sin_signos = texto_sucio.strip(\" ¡! \")\n",
    "capitalizado = texto_sucio.strip().capitalize()\n",
    "resultado_final = texto_sucio.strip(\" ¡! \").capitalize()\n",
    "\n",
    "print(f\"Original: '{texto_sucio}'\")\n",
    "print(f\"Sin espacios: '{sin_espacios}'\")\n",
    "print(f\"Sin signos: '{sin_signos}'\")\n",
    "print(f\"Capitalizado: '{capitalizado}'\")\n",
    "print(f\"Resultado final: '{resultado_final}'\")"
   ]
  },
  {
   "cell_type": "markdown",
   "metadata": {},
   "source": [
    "### Ejercicio 5: División y unión de cadenas\n",
    "Trabaja con listas de palabras y cadenas."
   ]
  },
  {
   "cell_type": "code",
   "execution_count": 5,
   "metadata": {},
   "outputs": [
    {
     "name": "stdout",
     "output_type": "stream",
     "text": [
      "Lenguajes: ['Python', 'Java', 'JavaScript', 'C++', 'Rust']\n",
      "Frase completa: 'Aprender Python es divertido'\n",
      "Con guiones: 'Aprender-Python-es-divertido'\n",
      "Primer lenguaje: Python\n",
      "Último lenguaje: Rust\n"
     ]
    }
   ],
   "source": [
    "oracion = \"Python,Java,JavaScript,C++,Rust\"\n",
    "palabras = [\"Aprender\", \"Python\", \"es\", \"divertido\"]\n",
    "\n",
    "# Tu código aquí:\n",
    "lenguajes = oracion.split(\",\")\n",
    "frase_completa = \" \".join(palabras)\n",
    "frase_guiones = \"-\".join(palabras)\n",
    "primer_lenguaje = lenguajes[0]\n",
    "ultimo_lenguaje = lenguajes[-1]\n",
    "\n",
    "print(f\"Lenguajes: {lenguajes}\")\n",
    "print(f\"Frase completa: '{frase_completa}'\")\n",
    "print(f\"Con guiones: '{frase_guiones}'\")\n",
    "print(f\"Primer lenguaje: {primer_lenguaje}\")\n",
    "print(f\"Último lenguaje: {ultimo_lenguaje}\")"
   ]
  },
  {
   "cell_type": "markdown",
   "metadata": {},
   "source": [
    "### Ejercicio 6: Reemplazo y formateo\n",
    "Modifica texto usando reemplazos y diferentes métodos de formateo."
   ]
  },
  {
   "cell_type": "code",
   "execution_count": 6,
   "metadata": {},
   "outputs": [
    {
     "name": "stdout",
     "output_type": "stream",
     "text": [
      "Plantilla original: Me gusta programar en LENGUAJE porque es ADJETIVO\n",
      "Frase Python: Me gusta programar en Python porque es poderoso\n",
      "Con .format(): Hola, soy Ana, tengo25 años y soy desarrolladora\n",
      "Con f-string: Hola, soy Ana, tengo 25 años y soy desarrolladora\n"
     ]
    }
   ],
   "source": [
    "plantilla = \"Me gusta programar en LENGUAJE porque es ADJETIVO\"\n",
    "nombre = \"Ana\"\n",
    "edad = 25\n",
    "profesion = \"desarrolladora\"\n",
    "\n",
    "# Tu código aquí:\n",
    "frase_python = plantilla.replace(\"LENGUAJE\", \"Python\").replace(\"ADJETIVO\", \"poderoso\")\n",
    "presentacion_format = \"Hola, soy {}, tengo{} años y soy {}\".format(nombre, edad, profesion)\n",
    "presentacion_f = f\"Hola, soy {nombre}, tengo {edad} años y soy {profesion}\"\n",
    "\n",
    "print(f\"Plantilla original: {plantilla}\")\n",
    "print(f\"Frase Python: {frase_python}\")\n",
    "print(f\"Con .format(): {presentacion_format}\")\n",
    "print(f\"Con f-string: {presentacion_f}\")"
   ]
  },
  {
   "cell_type": "markdown",
   "metadata": {},
   "source": [
    "## 🔴 Ejercicios Avanzados\n",
    "\n",
    "### Ejercicio 7: Validación de texto\n",
    "Crea funciones que validen diferentes tipos de texto."
   ]
  },
  {
   "cell_type": "code",
   "execution_count": 7,
   "metadata": {},
   "outputs": [
    {
     "name": "stdout",
     "output_type": "stream",
     "text": [
      "=== Validación de emails ===\n",
      "usuario@ejemplo.com: True\n",
      "malformado@: False\n",
      "@malformado.com: False\n",
      "bien@formado.org: True\n",
      "\n",
      "=== Palíndromos ===\n",
      "'anita lava la tina': True\n",
      "'python': False\n",
      "'reconocer': True\n",
      "'a man a plan a canal panama': True\n",
      "\n",
      "=== Conteo de vocales ===\n",
      "'Hola mundo': 4 vocales\n",
      "'Python es genial': 5 vocales\n",
      "'AEIOU': 5 vocales\n"
     ]
    }
   ],
   "source": [
    "def validar_email(email):\n",
    "    \"\"\"Valida si un email tiene formato básico correcto\"\"\"\n",
    "    has_at = \"@\" in email\n",
    "    has_dot = \".\" in email\n",
    "    end_with_at = email.endswith(\"@\")\n",
    "    end_with_dot = email.endswith(\".\")\n",
    "    starts_with_at = email.startswith(\"@\")\n",
    "    starts_with_dot = email.startswith(\".\")\n",
    "    is_at_before_dot = email.index(\"@\") < email.rindex(\".\") if has_at and has_dot else False\n",
    "    \n",
    "    is_email_valid = (has_at and has_dot and\n",
    "                      not end_with_at and not end_with_dot and\n",
    "                      not starts_with_at and not starts_with_dot and\n",
    "                      is_at_before_dot)\n",
    "    \n",
    "    return is_email_valid\n",
    "\n",
    "def es_palindromo(texto):\n",
    "    \"\"\"Verifica si un texto es palíndromo (se lee igual al revés)\"\"\"\n",
    "    texto_limpio = ''.join(texto.strip().split()).lower()\n",
    "    reverso = texto_limpio[::-1]\n",
    "    return texto_limpio == reverso\n",
    "\n",
    "def contar_vocales(texto):\n",
    "    \"\"\"Cuenta el número de vocales en un texto\"\"\"\n",
    "    return sum(1 for char in texto.lower() if char in \"aeiouáéíóúü\")\n",
    "    pass\n",
    "\n",
    "# Prueba tus funciones\n",
    "emails_prueba = [\"usuario@ejemplo.com\", \"malformado@\", \"@malformado.com\", \"bien@formado.org\"]\n",
    "palindromos_prueba = [\"anita lava la tina\", \"python\", \"reconocer\", \"a man a plan a canal panama\"]\n",
    "textos_prueba = [\"Hola mundo\", \"Python es genial\", \"AEIOU\"]\n",
    "\n",
    "print(\"=== Validación de emails ===\")\n",
    "for email in emails_prueba:\n",
    "    print(f\"{email}: {validar_email(email)}\")\n",
    "\n",
    "print(\"\\n=== Palíndromos ===\")\n",
    "for texto in palindromos_prueba:\n",
    "    print(f\"'{texto}': {es_palindromo(texto)}\")\n",
    "\n",
    "print(\"\\n=== Conteo de vocales ===\")\n",
    "for texto in textos_prueba:\n",
    "    print(f\"'{texto}': {contar_vocales(texto)} vocales\")"
   ]
  },
  {
   "cell_type": "markdown",
   "metadata": {},
   "source": [
    "### Ejercicio 8: Procesamiento de texto avanzado\n",
    "Trabaja con texto más complejo usando múltiples métodos."
   ]
  },
  {
   "cell_type": "code",
   "execution_count": 8,
   "metadata": {},
   "outputs": [
    {
     "name": "stdout",
     "output_type": "stream",
     "text": [
      "=== Análisis del texto ===\n",
      "Caracteres: 167\n",
      "Palabras: 25\n",
      "Oraciones: 4\n",
      "Palabra Mas Comun: Python\n",
      "Promedio Palabras Por Oracion: 6.25\n",
      "\n",
      "=== Resumen ===\n",
      "Python es un lenguaje de programación. Python es fácil de aprender.\n"
     ]
    }
   ],
   "source": [
    "articulo = \"\"\"\n",
    "Python es un lenguaje de programación. Python es fácil de aprender.\n",
    "Muchos desarrolladores eligen Python para sus proyectos.\n",
    "Python tiene una sintaxis clara y legible.\n",
    "\"\"\"\n",
    "\n",
    "def analizar_texto(texto):\n",
    "    \"\"\"Analiza un texto y devuelve estadísticas\"\"\"\n",
    "    # Tu código aquí:\n",
    "    texto_limpio = texto.strip()\n",
    "    palabras = texto_limpio.split()\n",
    "    oraciones = texto_limpio.split('.')  \n",
    "    \n",
    "    estadisticas = {\n",
    "        'caracteres': 0,  # Total de caracteres\n",
    "        'palabras': 0,    # Total de palabras\n",
    "        'oraciones': 0,   # Total de oraciones\n",
    "        'palabra_mas_comun': '',  # Palabra que más se repite\n",
    "        'promedio_palabras_por_oracion': 0\n",
    "    }\n",
    "    \n",
    "    # Completa el diccionario con los valores correctos\n",
    "    estadisticas['caracteres'] = len(texto_limpio)\n",
    "    estadisticas['palabras'] = len(palabras)\n",
    "    estadisticas['oraciones'] = len([o for o in oraciones if o.strip()])  # Evita contar oraciones vacías\n",
    "    if palabras:\n",
    "        from collections import Counter\n",
    "        palabra_contador = Counter(palabras)\n",
    "        estadisticas['palabra_mas_comun'] = palabra_contador.most_common(1)[0][0]\n",
    "    if estadisticas['oraciones'] > 0:\n",
    "        estadisticas['promedio_palabras_por_oracion'] = estadisticas['palabras'] / estadisticas['oraciones']\n",
    "    \n",
    "    \n",
    "    return estadisticas\n",
    "\n",
    "def generar_resumen(texto, max_oraciones=2):\n",
    "    \"\"\"Genera un resumen tomando las primeras N oraciones\"\"\"\n",
    "    \n",
    "    oraciones = [o.strip() for o in texto.split('.') if o.strip()]\n",
    "    resumen = '. '.join(oraciones[:max_oraciones])\n",
    "    if resumen:\n",
    "        resumen += '.'\n",
    "    return resumen\n",
    "\n",
    "# Prueba tus funciones\n",
    "stats = analizar_texto(articulo)\n",
    "resumen = generar_resumen(articulo, 2)\n",
    "\n",
    "print(\"=== Análisis del texto ===\")\n",
    "for clave, valor in stats.items():\n",
    "    print(f\"{clave.replace('_', ' ').title()}: {valor}\")\n",
    "\n",
    "print(f\"\\n=== Resumen ===\")\n",
    "print(resumen)"
   ]
  },
  {
   "cell_type": "markdown",
   "metadata": {},
   "source": [
    "### Ejercicio 9: Generador de contraseñas\n",
    "Crea un generador de contraseñas seguras."
   ]
  },
  {
   "cell_type": "code",
   "execution_count": 9,
   "metadata": {},
   "outputs": [
    {
     "name": "stdout",
     "output_type": "stream",
     "text": [
      "=== Generador de contraseñas ===\n",
      "\n",
      "Contraseña 1: Ep\\d$Hoh\\4AM\n",
      "Es segura: True\n",
      "\n",
      "Contraseña 2: ?R%,d1}Au3a,\n",
      "Es segura: True\n",
      "\n",
      "Contraseña 3: ?MWK$4,xDW$7\n",
      "Es segura: True\n"
     ]
    }
   ],
   "source": [
    "import random\n",
    "import string\n",
    "\n",
    "def generar_contraseña(longitud=12, incluir_simbolos=True):\n",
    "    \"\"\"Genera una contraseña aleatoria\"\"\"\n",
    "    # Tu código aquí:\n",
    "    # Usa string.ascii_letters, string.digits, string.punctuation\n",
    "    # Asegúrate de incluir al menos un carácter de cada tipo\n",
    "    caracteres = string.ascii_letters + string.digits\n",
    "    if incluir_simbolos:\n",
    "        caracteres += string.punctuation\n",
    "        \n",
    "    contraseña = []\n",
    "    contraseña.append(random.choice(string.ascii_lowercase))\n",
    "    contraseña.append(random.choice(string.ascii_uppercase))\n",
    "    contraseña.append(random.choice(string.digits))\n",
    "    if incluir_simbolos:\n",
    "        contraseña.append(random.choice(string.punctuation))\n",
    "    while len(contraseña) < longitud:\n",
    "        contraseña.append(random.choice(caracteres))\n",
    "    random.shuffle(contraseña)\n",
    "    return ''.join(contraseña)\n",
    "\n",
    "def validar_contraseña(contraseña):\n",
    "    \"\"\"Valida si una contraseña es segura\"\"\"\n",
    "    # Tu código aquí:\n",
    "    criterios = {\n",
    "        'longitud_minima': len(contraseña) >= 8,\n",
    "        'tiene_mayuscula': False,  # Verificar si tiene mayúsculas\n",
    "        'tiene_minuscula': False,  # Verificar si tiene minúsculas\n",
    "        'tiene_numero': False,     # Verificar si tiene números\n",
    "        'tiene_simbolo': False     # Verificar si tiene símbolos\n",
    "    }\n",
    "    \n",
    "    # Completa las verificaciones\n",
    "    for char in contraseña:\n",
    "        if char.isupper():\n",
    "            criterios['tiene_mayuscula'] = True\n",
    "        elif char.islower():\n",
    "            criterios['tiene_minuscula'] = True\n",
    "        elif char.isdigit():\n",
    "            criterios['tiene_numero'] = True\n",
    "        elif char in string.punctuation:\n",
    "            criterios['tiene_simbolo'] = True\n",
    "    \n",
    "    return criterios\n",
    "\n",
    "# Genera y valida contraseñas\n",
    "print(\"=== Generador de contraseñas ===\")\n",
    "for i in range(3):\n",
    "    contraseña = generar_contraseña(12, True)\n",
    "    validacion = validar_contraseña(contraseña)\n",
    "    es_segura = all(validacion.values())\n",
    "    \n",
    "    print(f\"\\nContraseña {i+1}: {contraseña}\")\n",
    "    print(f\"Es segura: {es_segura}\")\n",
    "    if not es_segura:\n",
    "        print(\"Criterios no cumplidos:\")\n",
    "        for criterio, cumple in validacion.items():\n",
    "            if not cumple:\n",
    "                print(f\"  - {criterio.replace('_', ' ').title()}\")"
   ]
  },
  {
   "cell_type": "markdown",
   "metadata": {},
   "source": [
    "### Ejercicio 10: Desafío final - Analizador de código\n",
    "Crea un analizador básico que examine código Python."
   ]
  },
  {
   "cell_type": "code",
   "execution_count": 10,
   "metadata": {},
   "outputs": [
    {
     "name": "stdout",
     "output_type": "stream",
     "text": [
      "=== Análisis de código ===\n",
      "Código analizado:\n",
      "\n",
      "def saludar(nombre):\n",
      "    print(f\"Hola {nombre}\")\n",
      "    return \"Saludo completado\"\n",
      "\n",
      "class Persona:\n",
      "    def __init__(self, nombre):\n",
      "        self.nombre = nombre\n",
      "\n",
      "    def hablar(self):\n",
      "        print(\"Estoy hablando\")\n",
      "\n",
      "# Crear una instancia\n",
      "p = Persona(\"Juan\")\n",
      "saludar(p.nombre)\n",
      "\n",
      "\n",
      "=== Resultados ===\n",
      "Total Lineas: 14\n",
      "Lineas Codigo: 10\n",
      "Lineas Comentario: 1\n",
      "Lineas Vacias: 3\n",
      "Funciones: saludar, __init__, hablar\n",
      "Clases: Persona:\n",
      "Imports: Ninguno\n",
      "Variables: self.nombre, p\n"
     ]
    }
   ],
   "source": [
    "codigo_ejemplo = \"\"\"\n",
    "def saludar(nombre):\n",
    "    print(f\"Hola {nombre}\")\n",
    "    return \"Saludo completado\"\n",
    "\n",
    "class Persona:\n",
    "    def __init__(self, nombre):\n",
    "        self.nombre = nombre\n",
    "    \n",
    "    def hablar(self):\n",
    "        print(\"Estoy hablando\")\n",
    "\n",
    "# Crear una instancia\n",
    "p = Persona(\"Juan\")\n",
    "saludar(p.nombre)\n",
    "\"\"\"\n",
    "\n",
    "def analizar_codigo(codigo):\n",
    "    \"\"\"Analiza código Python y devuelve estadísticas\"\"\"\n",
    "    # Tu código aquí:\n",
    "    lineas = codigo.strip().split('\\n')\n",
    "    \n",
    "    estadisticas = {\n",
    "        'total_lineas': 0,\n",
    "        'lineas_codigo': 0,        # Líneas que no están vacías ni son comentarios\n",
    "        'lineas_comentario': 0,    # Líneas que empiezan con #\n",
    "        'lineas_vacias': 0,        # Líneas vacías o solo con espacios\n",
    "        'funciones': [],           # Lista de nombres de funciones (def)\n",
    "        'clases': [],              # Lista de nombres de clases (class)\n",
    "        'imports': [],             # Lista de imports\n",
    "        'variables': []            # Variables asignadas (=)\n",
    "    }\n",
    "    \n",
    "    # Analiza cada línea y completa las estadísticas\n",
    "    for linea in lineas:\n",
    "        linea_limpia = linea.strip()\n",
    "        estadisticas['total_lineas'] += 1\n",
    "        if not linea_limpia:\n",
    "            estadisticas['lineas_vacias'] += 1\n",
    "        elif linea_limpia.startswith(\"#\"):\n",
    "            estadisticas['lineas_comentario'] += 1\n",
    "        else:\n",
    "            estadisticas['lineas_codigo'] += 1\n",
    "            if linea_limpia.startswith(\"def \"):\n",
    "                nombre_funcion = linea_limpia.split('(')[0].replace(\"def \", \"\").strip()\n",
    "                estadisticas['funciones'].append(nombre_funcion)\n",
    "            elif linea_limpia.startswith(\"class \"):\n",
    "                nombre_clase = linea_limpia.split('(')[0].replace(\"class \", \"\").strip()\n",
    "                estadisticas['clases'].append(nombre_clase)\n",
    "            elif linea_limpia.startswith(\"import \") or linea_limpia.startswith(\"from \"):\n",
    "                estadisticas['imports'].append(linea_limpia)\n",
    "            elif '=' in linea_limpia:\n",
    "                var_nombre = linea_limpia.split('=')[0].strip()\n",
    "                estadisticas['variables'].append(var_nombre)\n",
    "        \n",
    "        # Tu lógica de análisis aquí\n",
    "        \n",
    "    \n",
    "    return estadisticas\n",
    "\n",
    "# Analiza el código ejemplo\n",
    "resultado = analizar_codigo(codigo_ejemplo)\n",
    "\n",
    "print(\"=== Análisis de código ===\")\n",
    "print(f\"Código analizado:\")\n",
    "print(codigo_ejemplo)\n",
    "print(\"\\n=== Resultados ===\")\n",
    "for clave, valor in resultado.items():\n",
    "    if isinstance(valor, list) and valor:\n",
    "        print(f\"{clave.replace('_', ' ').title()}: {', '.join(valor)}\")\n",
    "    elif isinstance(valor, list):\n",
    "        print(f\"{clave.replace('_', ' ').title()}: Ninguno\")\n",
    "    else:\n",
    "        print(f\"{clave.replace('_', ' ').title()}: {valor}\")"
   ]
  },
  {
   "cell_type": "markdown",
   "metadata": {},
   "source": [
    "## 🎉 ¡Felicitaciones!\n",
    "\n",
    "Has completado todos los ejercicios de cadenas en Python. Estos ejercicios te han ayudado a practicar:\n",
    "\n",
    "- **Operaciones básicas**: longitud, mayúsculas, minúsculas\n",
    "- **Búsqueda**: `in`, `find()`, `count()`\n",
    "- **Slicing**: extracción de subcadenas\n",
    "- **Limpieza**: `strip()`, `replace()`\n",
    "- **División y unión**: `split()`, `join()`\n",
    "- **Formateo**: `.format()`, f-strings\n",
    "- **Validación**: métodos `is*()`\n",
    "- **Análisis de texto**: procesamiento complejo\n",
    "\n",
    "### Próximos pasos:\n",
    "1. Revisa las soluciones con tu cheat sheet\n",
    "2. Intenta crear tus propios ejercicios\n",
    "3. Aplica estos conceptos en proyectos reales\n",
    "\n",
    "¡Sigue practicando! 🚀"
   ]
  }
 ],
 "metadata": {
  "kernelspec": {
   "display_name": ".venv",
   "language": "python",
   "name": "python3"
  },
  "language_info": {
   "codemirror_mode": {
    "name": "ipython",
    "version": 3
   },
   "file_extension": ".py",
   "mimetype": "text/x-python",
   "name": "python",
   "nbconvert_exporter": "python",
   "pygments_lexer": "ipython3",
   "version": "3.13.1"
  }
 },
 "nbformat": 4,
 "nbformat_minor": 4
}
