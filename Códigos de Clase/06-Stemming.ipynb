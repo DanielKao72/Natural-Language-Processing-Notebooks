{
 "cells": [
  {
   "cell_type": "code",
   "execution_count": 1,
   "id": "33940d7a",
   "metadata": {},
   "outputs": [],
   "source": [
    "import nltk"
   ]
  },
  {
   "cell_type": "code",
   "execution_count": 3,
   "id": "db17d6a4",
   "metadata": {},
   "outputs": [
    {
     "name": "stdout",
     "output_type": "stream",
     "text": [
      "cuand\n",
      "aprend\n",
      "['stemming', 'es', 'un', 'metd', 'par', 'reduc', 'las', 'palabr', 'a', 'su', 'raiz', 'o', 'form', 'bas', '.']\n"
     ]
    }
   ],
   "source": [
    "from nltk import word_tokenize\n",
    "from nltk.stem import SnowballStemmer\n",
    "\n",
    "stemmer = SnowballStemmer(\"spanish\")\n",
    "print(stemmer.stem(\"cuando\"))\n",
    "print(stemmer.stem(\"aprenderla\"))\n",
    "texto = \"Stemming es un métdo para reducir las palabras a su raíz o forma base.\"\n",
    "stemmed_text = [stemmer.stem(i) for i in word_tokenize(texto)]\n",
    "print(stemmed_text)"
   ]
  }
 ],
 "metadata": {
  "kernelspec": {
   "display_name": ".venv",
   "language": "python",
   "name": "python3"
  },
  "language_info": {
   "codemirror_mode": {
    "name": "ipython",
    "version": 3
   },
   "file_extension": ".py",
   "mimetype": "text/x-python",
   "name": "python",
   "nbconvert_exporter": "python",
   "pygments_lexer": "ipython3",
   "version": "3.13.1"
  }
 },
 "nbformat": 4,
 "nbformat_minor": 5
}
