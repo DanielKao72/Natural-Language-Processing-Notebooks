{
 "cells": [
  {
   "cell_type": "markdown",
   "id": "6d65570d",
   "metadata": {},
   "source": [
    "### Paso 1. Declaramos la ruta del archivo en donde almacenaremos las entradas."
   ]
  },
  {
   "cell_type": "code",
   "execution_count": 1,
   "id": "5d046e64",
   "metadata": {},
   "outputs": [],
   "source": [
    "FILE_PATH = \"../Textos de Prueba/archivo.txt\""
   ]
  },
  {
   "cell_type": "markdown",
   "id": "bf305bf2",
   "metadata": {},
   "source": [
    "### Paso 2. Definimos la función para poder modificar y agregar texto al archivo."
   ]
  },
  {
   "cell_type": "code",
   "execution_count": 2,
   "id": "d6e689b7",
   "metadata": {},
   "outputs": [],
   "source": [
    "def write_input():\n",
    "    input_text = input(\"Introduce el texto que deseas guardar en el archivo: \")\n",
    "    \n",
    "    try:\n",
    "        with open(FILE_PATH, \"a\", encoding=\"utf-8\") as file:\n",
    "            file.write(input_text+\"\\n\")\n",
    "        print(f\"El texto ha sido guardado en {FILE_PATH}\")\n",
    "    except Exception as e:\n",
    "        print(f\"Ocurrió un error al guardar el archivo: {e}\")\n",
    "    "
   ]
  },
  {
   "cell_type": "markdown",
   "id": "f1c8ab1b",
   "metadata": {},
   "source": [
    "### Paso 2.1. Probamos que esté bien construida la función."
   ]
  },
  {
   "cell_type": "code",
   "execution_count": 3,
   "id": "789f1319",
   "metadata": {},
   "outputs": [
    {
     "name": "stdout",
     "output_type": "stream",
     "text": [
      "El texto ha sido guardado en ../Textos de Prueba/archivo.txt\n"
     ]
    }
   ],
   "source": [
    "write_input()"
   ]
  },
  {
   "cell_type": "code",
   "execution_count": 4,
   "id": "c0a4bd50",
   "metadata": {},
   "outputs": [],
   "source": [
    "def read_file():\n",
    "    try:\n",
    "        with open(FILE_PATH, \"r\", encoding=\"utf-8\") as file:\n",
    "            content = file.read()\n",
    "        \n",
    "        if content:\n",
    "            print(\"Contenido del archivo\\n\" + content)\n",
    "        else:\n",
    "            print(\"El archivo está vacío.\")\n",
    "    except Exception as e:\n",
    "        print(f\"Ocurrió un error al leer el archivo: {e}\")"
   ]
  },
  {
   "cell_type": "code",
   "execution_count": 5,
   "id": "e2e294ae",
   "metadata": {},
   "outputs": [
    {
     "name": "stdout",
     "output_type": "stream",
     "text": [
      "Contenido del archivo\n",
      "¡Hola, mundo! Esto es una prueba con la  letra ñ y tildes como la á, é, í, ó, ú.\n",
      "C'est la vie! Je suis à Paris.\n",
      "안녕하세요, 반갑습니다.\n",
      "München ist schön.\n",
      "El pingüino camina sobre el hielo.\n",
      "TEST DE PRUEBA\n",
      "\n"
     ]
    }
   ],
   "source": [
    "read_file()"
   ]
  }
 ],
 "metadata": {
  "kernelspec": {
   "display_name": ".venv",
   "language": "python",
   "name": "python3"
  },
  "language_info": {
   "codemirror_mode": {
    "name": "ipython",
    "version": 3
   },
   "file_extension": ".py",
   "mimetype": "text/x-python",
   "name": "python",
   "nbconvert_exporter": "python",
   "pygments_lexer": "ipython3",
   "version": "3.13.1"
  }
 },
 "nbformat": 4,
 "nbformat_minor": 5
}
