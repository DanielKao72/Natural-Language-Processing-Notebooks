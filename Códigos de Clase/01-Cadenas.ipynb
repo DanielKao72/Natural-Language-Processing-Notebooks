{
 "cells": [
  {
   "cell_type": "code",
   "execution_count": null,
   "id": "6bc5b828",
   "metadata": {},
   "outputs": [
    {
     "name": "stdout",
     "output_type": "stream",
     "text": [
      "Tutorial de cadenas\n",
      "\n",
      "Esto es una cadena multilínea.\n",
      "Puedes escribir en varias líneas sin usar caracteres especiales.\n",
      "Cada salto de línea se conserva.\n",
      "\n",
      "('Hola', ' ', 'Mundo Maldito')\n",
      "python          code\n"
     ]
    }
   ],
   "source": [
    "print(\"Tutorial de cadenas\")\n",
    "print(s)\n",
    "\n",
    "texto = \"Hola Mundo Maldito\"\n",
    "print(texto.partition(\" \"))"
   ]
  }
 ],
 "metadata": {
  "kernelspec": {
   "display_name": ".venv",
   "language": "python",
   "name": "python3"
  },
  "language_info": {
   "codemirror_mode": {
    "name": "ipython",
    "version": 3
   },
   "file_extension": ".py",
   "mimetype": "text/x-python",
   "name": "python",
   "nbconvert_exporter": "python",
   "pygments_lexer": "ipython3",
   "version": "3.13.1"
  }
 },
 "nbformat": 4,
 "nbformat_minor": 5
}
