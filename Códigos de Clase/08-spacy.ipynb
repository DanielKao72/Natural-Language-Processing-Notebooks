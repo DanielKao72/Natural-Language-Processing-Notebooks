{
 "cells": [
  {
   "cell_type": "code",
   "execution_count": 2,
   "id": "4a4780d7",
   "metadata": {},
   "outputs": [
    {
     "name": "stdout",
     "output_type": "stream",
     "text": [
      "Requirement already satisfied: spacy in c:\\users\\danik\\documents\\repositorios\\natural-language-processing-notebooks\\.venv\\lib\\site-packages (3.8.7)\n",
      "Requirement already satisfied: spacy-legacy<3.1.0,>=3.0.11 in c:\\users\\danik\\documents\\repositorios\\natural-language-processing-notebooks\\.venv\\lib\\site-packages (from spacy) (3.0.12)\n",
      "Requirement already satisfied: spacy-loggers<2.0.0,>=1.0.0 in c:\\users\\danik\\documents\\repositorios\\natural-language-processing-notebooks\\.venv\\lib\\site-packages (from spacy) (1.0.5)\n",
      "Requirement already satisfied: murmurhash<1.1.0,>=0.28.0 in c:\\users\\danik\\documents\\repositorios\\natural-language-processing-notebooks\\.venv\\lib\\site-packages (from spacy) (1.0.13)\n",
      "Requirement already satisfied: cymem<2.1.0,>=2.0.2 in c:\\users\\danik\\documents\\repositorios\\natural-language-processing-notebooks\\.venv\\lib\\site-packages (from spacy) (2.0.11)\n",
      "Requirement already satisfied: preshed<3.1.0,>=3.0.2 in c:\\users\\danik\\documents\\repositorios\\natural-language-processing-notebooks\\.venv\\lib\\site-packages (from spacy) (3.0.10)\n",
      "Requirement already satisfied: thinc<8.4.0,>=8.3.4 in c:\\users\\danik\\documents\\repositorios\\natural-language-processing-notebooks\\.venv\\lib\\site-packages (from spacy) (8.3.6)\n",
      "Requirement already satisfied: wasabi<1.2.0,>=0.9.1 in c:\\users\\danik\\documents\\repositorios\\natural-language-processing-notebooks\\.venv\\lib\\site-packages (from spacy) (1.1.3)\n",
      "Requirement already satisfied: srsly<3.0.0,>=2.4.3 in c:\\users\\danik\\documents\\repositorios\\natural-language-processing-notebooks\\.venv\\lib\\site-packages (from spacy) (2.5.1)\n",
      "Requirement already satisfied: catalogue<2.1.0,>=2.0.6 in c:\\users\\danik\\documents\\repositorios\\natural-language-processing-notebooks\\.venv\\lib\\site-packages (from spacy) (2.0.10)\n",
      "Requirement already satisfied: weasel<0.5.0,>=0.1.0 in c:\\users\\danik\\documents\\repositorios\\natural-language-processing-notebooks\\.venv\\lib\\site-packages (from spacy) (0.4.1)\n",
      "Requirement already satisfied: typer<1.0.0,>=0.3.0 in c:\\users\\danik\\documents\\repositorios\\natural-language-processing-notebooks\\.venv\\lib\\site-packages (from spacy) (0.17.3)\n",
      "Requirement already satisfied: tqdm<5.0.0,>=4.38.0 in c:\\users\\danik\\documents\\repositorios\\natural-language-processing-notebooks\\.venv\\lib\\site-packages (from spacy) (4.67.1)\n",
      "Requirement already satisfied: numpy>=1.19.0 in c:\\users\\danik\\documents\\repositorios\\natural-language-processing-notebooks\\.venv\\lib\\site-packages (from spacy) (2.3.2)\n",
      "Requirement already satisfied: requests<3.0.0,>=2.13.0 in c:\\users\\danik\\documents\\repositorios\\natural-language-processing-notebooks\\.venv\\lib\\site-packages (from spacy) (2.32.5)\n",
      "Requirement already satisfied: pydantic!=1.8,!=1.8.1,<3.0.0,>=1.7.4 in c:\\users\\danik\\documents\\repositorios\\natural-language-processing-notebooks\\.venv\\lib\\site-packages (from spacy) (2.11.7)\n",
      "Requirement already satisfied: jinja2 in c:\\users\\danik\\documents\\repositorios\\natural-language-processing-notebooks\\.venv\\lib\\site-packages (from spacy) (3.1.6)\n",
      "Requirement already satisfied: setuptools in c:\\users\\danik\\documents\\repositorios\\natural-language-processing-notebooks\\.venv\\lib\\site-packages (from spacy) (80.9.0)\n",
      "Requirement already satisfied: packaging>=20.0 in c:\\users\\danik\\documents\\repositorios\\natural-language-processing-notebooks\\.venv\\lib\\site-packages (from spacy) (25.0)\n",
      "Requirement already satisfied: langcodes<4.0.0,>=3.2.0 in c:\\users\\danik\\documents\\repositorios\\natural-language-processing-notebooks\\.venv\\lib\\site-packages (from spacy) (3.5.0)\n",
      "Requirement already satisfied: language-data>=1.2 in c:\\users\\danik\\documents\\repositorios\\natural-language-processing-notebooks\\.venv\\lib\\site-packages (from langcodes<4.0.0,>=3.2.0->spacy) (1.3.0)\n",
      "Requirement already satisfied: annotated-types>=0.6.0 in c:\\users\\danik\\documents\\repositorios\\natural-language-processing-notebooks\\.venv\\lib\\site-packages (from pydantic!=1.8,!=1.8.1,<3.0.0,>=1.7.4->spacy) (0.7.0)\n",
      "Requirement already satisfied: pydantic-core==2.33.2 in c:\\users\\danik\\documents\\repositorios\\natural-language-processing-notebooks\\.venv\\lib\\site-packages (from pydantic!=1.8,!=1.8.1,<3.0.0,>=1.7.4->spacy) (2.33.2)\n",
      "Requirement already satisfied: typing-extensions>=4.12.2 in c:\\users\\danik\\documents\\repositorios\\natural-language-processing-notebooks\\.venv\\lib\\site-packages (from pydantic!=1.8,!=1.8.1,<3.0.0,>=1.7.4->spacy) (4.15.0)\n",
      "Requirement already satisfied: typing-inspection>=0.4.0 in c:\\users\\danik\\documents\\repositorios\\natural-language-processing-notebooks\\.venv\\lib\\site-packages (from pydantic!=1.8,!=1.8.1,<3.0.0,>=1.7.4->spacy) (0.4.1)\n",
      "Requirement already satisfied: charset_normalizer<4,>=2 in c:\\users\\danik\\documents\\repositorios\\natural-language-processing-notebooks\\.venv\\lib\\site-packages (from requests<3.0.0,>=2.13.0->spacy) (3.4.3)\n",
      "Requirement already satisfied: idna<4,>=2.5 in c:\\users\\danik\\documents\\repositorios\\natural-language-processing-notebooks\\.venv\\lib\\site-packages (from requests<3.0.0,>=2.13.0->spacy) (3.10)\n",
      "Requirement already satisfied: urllib3<3,>=1.21.1 in c:\\users\\danik\\documents\\repositorios\\natural-language-processing-notebooks\\.venv\\lib\\site-packages (from requests<3.0.0,>=2.13.0->spacy) (2.5.0)\n",
      "Requirement already satisfied: certifi>=2017.4.17 in c:\\users\\danik\\documents\\repositorios\\natural-language-processing-notebooks\\.venv\\lib\\site-packages (from requests<3.0.0,>=2.13.0->spacy) (2025.8.3)\n",
      "Requirement already satisfied: blis<1.4.0,>=1.3.0 in c:\\users\\danik\\documents\\repositorios\\natural-language-processing-notebooks\\.venv\\lib\\site-packages (from thinc<8.4.0,>=8.3.4->spacy) (1.3.0)\n",
      "Requirement already satisfied: confection<1.0.0,>=0.0.1 in c:\\users\\danik\\documents\\repositorios\\natural-language-processing-notebooks\\.venv\\lib\\site-packages (from thinc<8.4.0,>=8.3.4->spacy) (0.1.5)\n",
      "Requirement already satisfied: colorama in c:\\users\\danik\\documents\\repositorios\\natural-language-processing-notebooks\\.venv\\lib\\site-packages (from tqdm<5.0.0,>=4.38.0->spacy) (0.4.6)\n",
      "Requirement already satisfied: click>=8.0.0 in c:\\users\\danik\\documents\\repositorios\\natural-language-processing-notebooks\\.venv\\lib\\site-packages (from typer<1.0.0,>=0.3.0->spacy) (8.2.1)\n",
      "Requirement already satisfied: shellingham>=1.3.0 in c:\\users\\danik\\documents\\repositorios\\natural-language-processing-notebooks\\.venv\\lib\\site-packages (from typer<1.0.0,>=0.3.0->spacy) (1.5.4)\n",
      "Requirement already satisfied: rich>=10.11.0 in c:\\users\\danik\\documents\\repositorios\\natural-language-processing-notebooks\\.venv\\lib\\site-packages (from typer<1.0.0,>=0.3.0->spacy) (14.1.0)\n",
      "Requirement already satisfied: cloudpathlib<1.0.0,>=0.7.0 in c:\\users\\danik\\documents\\repositorios\\natural-language-processing-notebooks\\.venv\\lib\\site-packages (from weasel<0.5.0,>=0.1.0->spacy) (0.22.0)\n",
      "Requirement already satisfied: smart-open<8.0.0,>=5.2.1 in c:\\users\\danik\\documents\\repositorios\\natural-language-processing-notebooks\\.venv\\lib\\site-packages (from weasel<0.5.0,>=0.1.0->spacy) (7.3.0.post1)\n",
      "Requirement already satisfied: wrapt in c:\\users\\danik\\documents\\repositorios\\natural-language-processing-notebooks\\.venv\\lib\\site-packages (from smart-open<8.0.0,>=5.2.1->weasel<0.5.0,>=0.1.0->spacy) (1.17.3)\n",
      "Requirement already satisfied: marisa-trie>=1.1.0 in c:\\users\\danik\\documents\\repositorios\\natural-language-processing-notebooks\\.venv\\lib\\site-packages (from language-data>=1.2->langcodes<4.0.0,>=3.2.0->spacy) (1.3.1)\n",
      "Requirement already satisfied: markdown-it-py>=2.2.0 in c:\\users\\danik\\documents\\repositorios\\natural-language-processing-notebooks\\.venv\\lib\\site-packages (from rich>=10.11.0->typer<1.0.0,>=0.3.0->spacy) (4.0.0)\n",
      "Requirement already satisfied: pygments<3.0.0,>=2.13.0 in c:\\users\\danik\\documents\\repositorios\\natural-language-processing-notebooks\\.venv\\lib\\site-packages (from rich>=10.11.0->typer<1.0.0,>=0.3.0->spacy) (2.19.2)\n",
      "Requirement already satisfied: mdurl~=0.1 in c:\\users\\danik\\documents\\repositorios\\natural-language-processing-notebooks\\.venv\\lib\\site-packages (from markdown-it-py>=2.2.0->rich>=10.11.0->typer<1.0.0,>=0.3.0->spacy) (0.1.2)\n",
      "Requirement already satisfied: MarkupSafe>=2.0 in c:\\users\\danik\\documents\\repositorios\\natural-language-processing-notebooks\\.venv\\lib\\site-packages (from jinja2->spacy) (3.0.2)\n"
     ]
    }
   ],
   "source": [
    "!pip install spacy"
   ]
  },
  {
   "cell_type": "code",
   "execution_count": 3,
   "id": "b0f107f1",
   "metadata": {},
   "outputs": [],
   "source": [
    "import spacy"
   ]
  },
  {
   "cell_type": "code",
   "execution_count": 4,
   "id": "f40b740e",
   "metadata": {},
   "outputs": [
    {
     "name": "stdout",
     "output_type": "stream",
     "text": [
      "Apple Apple PROPN nsubj Xxxxx True False\n",
      "is be AUX aux xx True True\n",
      "looking look VERB ROOT xxxx True False\n",
      "at at ADP prep xx True True\n",
      "buying buy VERB pcomp xxxx True False\n",
      "U.K. U.K. PROPN nsubj X.X. False False\n",
      "startup startup VERB ccomp xxxx True False\n",
      "for for ADP prep xxx True True\n",
      "$ $ SYM quantmod $ False False\n",
      "1 1 NUM compound d False False\n",
      "billion billion NUM pobj xxxx True False\n"
     ]
    }
   ],
   "source": [
    "nlp = spacy.load(\"en_core_web_sm\")\n",
    "doc = nlp(\"Apple is looking at buying U.K. startup for $1 billion\")\n",
    "\n",
    "for token in doc:\n",
    "    print(token.text, token.lemma_, token.pos_, token.dep_, token.shape_, token.is_alpha, token.is_stop)"
   ]
  },
  {
   "cell_type": "code",
   "execution_count": 5,
   "id": "0bdafd25",
   "metadata": {},
   "outputs": [
    {
     "data": {
      "text/plain": [
       "('CARDINAL',\n",
       " 'DATE',\n",
       " 'EVENT',\n",
       " 'FAC',\n",
       " 'GPE',\n",
       " 'LANGUAGE',\n",
       " 'LAW',\n",
       " 'LOC',\n",
       " 'MONEY',\n",
       " 'NORP',\n",
       " 'ORDINAL',\n",
       " 'ORG',\n",
       " 'PERCENT',\n",
       " 'PERSON',\n",
       " 'PRODUCT',\n",
       " 'QUANTITY',\n",
       " 'TIME',\n",
       " 'WORK_OF_ART')"
      ]
     },
     "execution_count": 5,
     "metadata": {},
     "output_type": "execute_result"
    }
   ],
   "source": [
    "ner = nlp.get_pipe(\"ner\")\n",
    "ner.labels"
   ]
  },
  {
   "cell_type": "code",
   "execution_count": 6,
   "id": "85d55385",
   "metadata": {},
   "outputs": [
    {
     "name": "stdout",
     "output_type": "stream",
     "text": [
      "Apple 0 5 ORG\n",
      "U.K. 27 31 GPE\n",
      "$1 billion 44 54 MONEY\n"
     ]
    }
   ],
   "source": [
    "for ent in doc.ents:\n",
    "    print(ent.text, ent.start_char, ent.end_char, ent.label_)"
   ]
  },
  {
   "cell_type": "code",
   "execution_count": 7,
   "id": "d3dcb553",
   "metadata": {},
   "outputs": [
    {
     "name": "stdout",
     "output_type": "stream",
     "text": [
      "Collecting es-core-news-sm==3.8.0\n",
      "  Downloading https://github.com/explosion/spacy-models/releases/download/es_core_news_sm-3.8.0/es_core_news_sm-3.8.0-py3-none-any.whl (12.9 MB)\n",
      "     ---------------------------------------- 0.0/12.9 MB ? eta -:--:--\n",
      "      --------------------------------------- 0.3/12.9 MB ? eta -:--:--\n",
      "     -------- ------------------------------- 2.6/12.9 MB 11.2 MB/s eta 0:00:01\n",
      "     --------------------- ------------------ 7.1/12.9 MB 15.9 MB/s eta 0:00:01\n",
      "     ---------------------------------- ---- 11.3/12.9 MB 17.3 MB/s eta 0:00:01\n",
      "     ---------------------------------------- 12.9/12.9 MB 16.6 MB/s  0:00:00\n",
      "\u001b[38;5;2m✔ Download and installation successful\u001b[0m\n",
      "You can now load the package via spacy.load('es_core_news_sm')\n"
     ]
    }
   ],
   "source": [
    "!python -m spacy download es_core_news_sm"
   ]
  },
  {
   "cell_type": "code",
   "execution_count": 8,
   "id": "5c0322b5",
   "metadata": {},
   "outputs": [
    {
     "name": "stdout",
     "output_type": "stream",
     "text": [
      "Minuta No. 731.- Actividades del Departamento de Seguridad Informática (Junio 2020) Dependencia: Coordinación General de Tecnologías de Información y Comunicación Participantes 1.-López Tun Laura Guadalupe(laura.tun) 2.-Novelo Zel Israel Josué 3.-Pérez Segura Wilberth de Jesús .Orden del Día Proxima Reunión Acuerdo: Estimada Laura: Se solicita su amable apoyo para la aplicación de permisos de acceso desde internet al monitor salud\n",
      "Minuta PROPN ROOT\n",
      "No PART flat\n",
      ". PUNCT punct\n",
      "731.- NUM nummod\n",
      "Actividades PROPN flat\n",
      "del ADP case\n",
      "Departamento PROPN nmod\n",
      "de ADP case\n",
      "Seguridad PROPN flat\n",
      "Informática PROPN flat\n",
      "( PUNCT punct\n",
      "Junio NOUN appos\n",
      "2020 NUM nummod\n",
      ") PUNCT punct\n",
      "Dependencia PROPN ROOT\n",
      ": PUNCT punct\n",
      "Coordinación PROPN appos\n",
      "General PROPN flat\n",
      "de ADP case\n",
      "Tecnologías PROPN flat\n",
      "de ADP case\n",
      "Información PROPN flat\n",
      "y CCONJ cc\n",
      "Comunicación PROPN conj\n",
      "Participantes PROPN flat\n",
      "1.-López NUM nummod\n",
      "Tun PROPN nmod\n",
      "Laura PROPN flat\n",
      "Guadalupe(laura.tun PROPN flat\n",
      ") PUNCT punct\n",
      "2.-Novelo NUM appos\n",
      "Zel PROPN appos\n",
      "Israel PROPN flat\n",
      "Josué PROPN flat\n",
      "3.-Pérez PROPN flat\n",
      "Segura PROPN flat\n",
      "Wilberth PROPN flat\n",
      "de ADP case\n",
      "Jesús PROPN flat\n",
      ".Orden VERB punct\n",
      "del ADP case\n",
      "Día PROPN nmod\n",
      "Proxima PROPN flat\n",
      "Reunión PROPN flat\n",
      "Acuerdo PROPN flat\n",
      ": PUNCT punct\n",
      "Estimada PROPN nmod\n",
      "Laura PROPN flat\n",
      ": PUNCT punct\n",
      "Se PRON expl:pv\n",
      "solicita VERB acl\n",
      "su DET det\n",
      "amable ADJ amod\n",
      "apoyo NOUN nsubj\n",
      "para ADP case\n",
      "la DET det\n",
      "aplicación NOUN nmod\n",
      "de ADP case\n",
      "permisos NOUN nmod\n",
      "de ADP case\n",
      "acceso NOUN nmod\n",
      "desde ADP case\n",
      "internet PROPN nmod\n",
      "al ADP case\n",
      "monitor NOUN nmod\n",
      "salud NOUN flat\n"
     ]
    }
   ],
   "source": [
    "import spacy\n",
    "\n",
    "nlp = spacy.load(\"es_core_news_sm\")\n",
    "doc = nlp(\"Minuta No. 731.- Actividades del Departamento de Seguridad Informática (Junio 2020) Dependencia: Coordinación General de Tecnologías de Información y Comunicación Participantes 1.-López Tun Laura Guadalupe(laura.tun) 2.-Novelo Zel Israel Josué 3.-Pérez Segura Wilberth de Jesús .Orden del Día Proxima Reunión Acuerdo: Estimada Laura: Se solicita su amable apoyo para la aplicación de permisos de acceso desde internet al monitor salud\")\n",
    "print(doc.text)\n",
    "\n",
    "for token in doc:\n",
    "    print(token.text, token.pos_, token.dep_)"
   ]
  },
  {
   "cell_type": "code",
   "execution_count": 9,
   "id": "81932827",
   "metadata": {},
   "outputs": [
    {
     "data": {
      "text/plain": [
       "('LOC', 'MISC', 'ORG', 'PER')"
      ]
     },
     "execution_count": 9,
     "metadata": {},
     "output_type": "execute_result"
    }
   ],
   "source": [
    "ner = nlp.get_pipe(\"ner\")\n",
    "ner.labels"
   ]
  },
  {
   "cell_type": "code",
   "execution_count": 10,
   "id": "ca0690ef",
   "metadata": {},
   "outputs": [
    {
     "name": "stdout",
     "output_type": "stream",
     "text": [
      "Collecting es-core-news-md==3.8.0\n",
      "  Downloading https://github.com/explosion/spacy-models/releases/download/es_core_news_md-3.8.0/es_core_news_md-3.8.0-py3-none-any.whl (42.3 MB)\n",
      "     ---------------------------------------- 0.0/42.3 MB ? eta -:--:--\n",
      "     ---------------------------------------- 0.3/42.3 MB ? eta -:--:--\n",
      "     -- ------------------------------------- 3.1/42.3 MB 12.8 MB/s eta 0:00:04\n",
      "     ------ --------------------------------- 7.3/42.3 MB 16.3 MB/s eta 0:00:03\n",
      "     ----------- --------------------------- 12.1/42.3 MB 17.8 MB/s eta 0:00:02\n",
      "     -------------- ------------------------ 16.3/42.3 MB 18.4 MB/s eta 0:00:02\n",
      "     ------------------- ------------------- 20.7/42.3 MB 18.7 MB/s eta 0:00:02\n",
      "     ----------------------- --------------- 25.2/42.3 MB 19.0 MB/s eta 0:00:01\n",
      "     --------------------------- ----------- 29.4/42.3 MB 19.2 MB/s eta 0:00:01\n",
      "     ------------------------------ -------- 33.6/42.3 MB 19.3 MB/s eta 0:00:01\n",
      "     ----------------------------------- --- 38.0/42.3 MB 19.4 MB/s eta 0:00:01\n",
      "     --------------------------------------  42.2/42.3 MB 19.5 MB/s eta 0:00:01\n",
      "     ---------------------------------------- 42.3/42.3 MB 18.4 MB/s  0:00:02\n",
      "\u001b[38;5;2m✔ Download and installation successful\u001b[0m\n",
      "You can now load the package via spacy.load('es_core_news_md')\n"
     ]
    }
   ],
   "source": [
    "!python -m spacy download es_core_news_md"
   ]
  },
  {
   "cell_type": "code",
   "execution_count": 11,
   "id": "1d442e64",
   "metadata": {},
   "outputs": [
    {
     "name": "stdout",
     "output_type": "stream",
     "text": [
      "Minuta No. 0 10 MISC\n",
      "731.- Actividades 11 28 LOC\n",
      "Departamento de Seguridad Informática 33 70 ORG\n",
      "Junio 2020) Dependencia: Coordinación General de Tecnologías de Información y Comunicación Participantes 1.-López Tun Laura Guadalupe(laura.tun 72 215 MISC\n",
      "Zel Israel 227 237 LOC\n",
      "Segura Wilberth de Jesús .Orden 253 284 LOC\n",
      "Día Proxima Reunión Acuerdo: Estimada Laura 289 332 MISC\n",
      "internet 409 417 MISC\n"
     ]
    }
   ],
   "source": [
    "nlp = spacy.load(\"es_core_news_md\")\n",
    "doc = nlp(\"Minuta No. 731.- Actividades del Departamento de Seguridad Informática (Junio 2020) Dependencia: Coordinación General de Tecnologías de Información y Comunicación Participantes 1.-López Tun Laura Guadalupe(laura.tun) 2.-Novelo Zel Israel Josué 3.-Pérez Segura Wilberth de Jesús .Orden del Día Proxima Reunión Acuerdo: Estimada Laura: Se solicita su amable apoyo para la aplicación de permisos de acceso desde internet al monitor salud\")\n",
    "\n",
    "for ent in doc.ents:\n",
    "    print(ent.text, ent.start_char, ent.end_char, ent.label_)"
   ]
  },
  {
   "cell_type": "code",
   "execution_count": 12,
   "id": "e4d40d09",
   "metadata": {},
   "outputs": [
    {
     "name": "stdout",
     "output_type": "stream",
     "text": [
      "Collecting es-core-news-lg==3.8.0\n",
      "  Downloading https://github.com/explosion/spacy-models/releases/download/es_core_news_lg-3.8.0/es_core_news_lg-3.8.0-py3-none-any.whl (568.0 MB)\n",
      "     ---------------------------------------- 0.0/568.0 MB ? eta -:--:--\n",
      "     ---------------------------------------- 0.3/568.0 MB ? eta -:--:--\n",
      "     --------------------------------------- 3.1/568.0 MB 12.7 MB/s eta 0:00:45\n",
      "      -------------------------------------- 7.3/568.0 MB 16.2 MB/s eta 0:00:35\n",
      "      ------------------------------------- 11.8/568.0 MB 17.6 MB/s eta 0:00:32\n",
      "     - ------------------------------------ 16.0/568.0 MB 18.2 MB/s eta 0:00:31\n",
      "     - ------------------------------------ 20.7/568.0 MB 18.7 MB/s eta 0:00:30\n",
      "     - ------------------------------------ 24.6/568.0 MB 18.9 MB/s eta 0:00:29\n",
      "     - ------------------------------------ 29.1/568.0 MB 19.2 MB/s eta 0:00:29\n",
      "     -- ----------------------------------- 33.3/568.0 MB 19.3 MB/s eta 0:00:28\n",
      "     -- ----------------------------------- 37.7/568.0 MB 19.4 MB/s eta 0:00:28\n",
      "     -- ----------------------------------- 42.2/568.0 MB 19.5 MB/s eta 0:00:27\n",
      "     --- ---------------------------------- 46.4/568.0 MB 19.6 MB/s eta 0:00:27\n",
      "     --- ---------------------------------- 50.9/568.0 MB 19.6 MB/s eta 0:00:27\n",
      "     --- ---------------------------------- 54.8/568.0 MB 19.6 MB/s eta 0:00:27\n",
      "     --- ---------------------------------- 59.2/568.0 MB 19.6 MB/s eta 0:00:26\n",
      "     ---- --------------------------------- 63.4/568.0 MB 19.6 MB/s eta 0:00:26\n",
      "     ---- --------------------------------- 67.9/568.0 MB 19.7 MB/s eta 0:00:26\n",
      "     ---- --------------------------------- 72.4/568.0 MB 19.7 MB/s eta 0:00:26\n",
      "     ----- -------------------------------- 76.5/568.0 MB 19.7 MB/s eta 0:00:25\n",
      "     ----- -------------------------------- 81.0/568.0 MB 19.8 MB/s eta 0:00:25\n",
      "     ----- -------------------------------- 85.2/568.0 MB 19.8 MB/s eta 0:00:25\n",
      "     ----- -------------------------------- 89.4/568.0 MB 19.8 MB/s eta 0:00:25\n",
      "     ------ ------------------------------- 93.8/568.0 MB 19.8 MB/s eta 0:00:24\n",
      "     ------ ------------------------------- 98.3/568.0 MB 19.8 MB/s eta 0:00:24\n",
      "     ------ ------------------------------ 102.5/568.0 MB 19.9 MB/s eta 0:00:24\n",
      "     ------ ------------------------------ 107.0/568.0 MB 19.9 MB/s eta 0:00:24\n",
      "     ------- ----------------------------- 111.1/568.0 MB 19.9 MB/s eta 0:00:23\n",
      "     ------- ----------------------------- 115.6/568.0 MB 19.9 MB/s eta 0:00:23\n",
      "     ------- ----------------------------- 119.8/568.0 MB 19.9 MB/s eta 0:00:23\n",
      "     -------- ---------------------------- 124.3/568.0 MB 19.9 MB/s eta 0:00:23\n",
      "     -------- ---------------------------- 128.5/568.0 MB 19.9 MB/s eta 0:00:23\n",
      "     -------- ---------------------------- 132.9/568.0 MB 19.9 MB/s eta 0:00:22\n",
      "     -------- ---------------------------- 137.4/568.0 MB 20.0 MB/s eta 0:00:22\n",
      "     --------- --------------------------- 141.6/568.0 MB 19.9 MB/s eta 0:00:22\n",
      "     --------- --------------------------- 145.8/568.0 MB 19.9 MB/s eta 0:00:22\n",
      "     --------- --------------------------- 150.2/568.0 MB 19.9 MB/s eta 0:00:21\n",
      "     ---------- -------------------------- 154.4/568.0 MB 19.9 MB/s eta 0:00:21\n",
      "     ---------- -------------------------- 158.6/568.0 MB 19.9 MB/s eta 0:00:21\n",
      "     ---------- -------------------------- 163.1/568.0 MB 20.0 MB/s eta 0:00:21\n",
      "     ---------- -------------------------- 167.5/568.0 MB 20.0 MB/s eta 0:00:21\n",
      "     ----------- ------------------------- 171.7/568.0 MB 20.0 MB/s eta 0:00:20\n",
      "     ----------- ------------------------- 175.9/568.0 MB 20.0 MB/s eta 0:00:20\n",
      "     ----------- ------------------------- 180.4/568.0 MB 20.0 MB/s eta 0:00:20\n",
      "     ------------ ------------------------ 184.5/568.0 MB 20.0 MB/s eta 0:00:20\n",
      "     ------------ ------------------------ 189.0/568.0 MB 20.0 MB/s eta 0:00:19\n",
      "     ------------ ------------------------ 193.2/568.0 MB 20.0 MB/s eta 0:00:19\n",
      "     ------------ ------------------------ 197.7/568.0 MB 20.0 MB/s eta 0:00:19\n",
      "     ------------- ----------------------- 201.9/568.0 MB 20.0 MB/s eta 0:00:19\n",
      "     ------------- ----------------------- 206.3/568.0 MB 20.0 MB/s eta 0:00:19\n",
      "     ------------- ----------------------- 210.5/568.0 MB 20.0 MB/s eta 0:00:18\n",
      "     -------------- ---------------------- 215.0/568.0 MB 20.0 MB/s eta 0:00:18\n",
      "     -------------- ---------------------- 219.4/568.0 MB 20.0 MB/s eta 0:00:18\n",
      "     -------------- ---------------------- 223.9/568.0 MB 20.0 MB/s eta 0:00:18\n",
      "     -------------- ---------------------- 228.1/568.0 MB 20.0 MB/s eta 0:00:17\n",
      "     --------------- --------------------- 232.5/568.0 MB 20.0 MB/s eta 0:00:17\n",
      "     --------------- --------------------- 236.7/568.0 MB 20.0 MB/s eta 0:00:17\n",
      "     --------------- --------------------- 241.2/568.0 MB 20.0 MB/s eta 0:00:17\n",
      "     ---------------- -------------------- 245.6/568.0 MB 20.1 MB/s eta 0:00:17\n",
      "     ---------------- -------------------- 249.8/568.0 MB 20.1 MB/s eta 0:00:16\n",
      "     ---------------- -------------------- 254.3/568.0 MB 20.1 MB/s eta 0:00:16\n",
      "     ---------------- -------------------- 258.5/568.0 MB 20.1 MB/s eta 0:00:16\n",
      "     ----------------- ------------------- 262.7/568.0 MB 20.1 MB/s eta 0:00:16\n",
      "     ----------------- ------------------- 266.6/568.0 MB 20.2 MB/s eta 0:00:15\n",
      "     ----------------- ------------------- 271.1/568.0 MB 20.1 MB/s eta 0:00:15\n",
      "     ----------------- ------------------- 275.3/568.0 MB 20.1 MB/s eta 0:00:15\n",
      "     ------------------ ------------------ 279.2/568.0 MB 20.1 MB/s eta 0:00:15\n",
      "     ------------------ ------------------ 283.6/568.0 MB 20.1 MB/s eta 0:00:15\n",
      "     ------------------ ------------------ 287.8/568.0 MB 20.1 MB/s eta 0:00:14\n",
      "     ------------------ ------------------ 291.5/568.0 MB 20.1 MB/s eta 0:00:14\n",
      "     ------------------- ----------------- 296.2/568.0 MB 20.1 MB/s eta 0:00:14\n",
      "     ------------------- ----------------- 300.4/568.0 MB 20.0 MB/s eta 0:00:14\n",
      "     ------------------- ----------------- 304.9/568.0 MB 20.0 MB/s eta 0:00:14\n",
      "     -------------------- ---------------- 309.3/568.0 MB 20.0 MB/s eta 0:00:13\n",
      "     -------------------- ---------------- 313.8/568.0 MB 20.1 MB/s eta 0:00:13\n",
      "     -------------------- ---------------- 318.0/568.0 MB 20.1 MB/s eta 0:00:13\n",
      "     -------------------- ---------------- 322.2/568.0 MB 20.1 MB/s eta 0:00:13\n",
      "     --------------------- --------------- 326.6/568.0 MB 20.1 MB/s eta 0:00:13\n",
      "     --------------------- --------------- 330.3/568.0 MB 20.0 MB/s eta 0:00:12\n",
      "     --------------------- --------------- 333.7/568.0 MB 20.0 MB/s eta 0:00:12\n",
      "     --------------------- --------------- 337.6/568.0 MB 19.9 MB/s eta 0:00:12\n",
      "     ---------------------- -------------- 342.1/568.0 MB 19.9 MB/s eta 0:00:12\n",
      "     ---------------------- -------------- 345.2/568.0 MB 19.8 MB/s eta 0:00:12\n",
      "     ---------------------- -------------- 349.2/568.0 MB 19.8 MB/s eta 0:00:12\n",
      "     ---------------------- -------------- 352.8/568.0 MB 19.8 MB/s eta 0:00:11\n",
      "     ----------------------- ------------- 356.3/568.0 MB 19.7 MB/s eta 0:00:11\n",
      "     ----------------------- ------------- 359.4/568.0 MB 19.6 MB/s eta 0:00:11\n",
      "     ----------------------- ------------- 362.8/568.0 MB 19.5 MB/s eta 0:00:11\n",
      "     ----------------------- ------------- 366.7/568.0 MB 19.5 MB/s eta 0:00:11\n",
      "     ------------------------ ------------ 370.9/568.0 MB 19.5 MB/s eta 0:00:11\n",
      "     ------------------------ ------------ 375.1/568.0 MB 19.5 MB/s eta 0:00:10\n",
      "     ------------------------ ------------ 378.8/568.0 MB 19.4 MB/s eta 0:00:10\n",
      "     ------------------------ ------------ 382.5/568.0 MB 19.4 MB/s eta 0:00:10\n",
      "     ------------------------- ----------- 386.7/568.0 MB 19.3 MB/s eta 0:00:10\n",
      "     ------------------------- ----------- 391.1/568.0 MB 19.4 MB/s eta 0:00:10\n",
      "     ------------------------- ----------- 395.3/568.0 MB 19.4 MB/s eta 0:00:09\n",
      "     -------------------------- ---------- 399.8/568.0 MB 19.4 MB/s eta 0:00:09\n",
      "     -------------------------- ---------- 403.7/568.0 MB 19.4 MB/s eta 0:00:09\n",
      "     -------------------------- ---------- 408.4/568.0 MB 19.4 MB/s eta 0:00:09\n",
      "     -------------------------- ---------- 412.6/568.0 MB 19.4 MB/s eta 0:00:09\n",
      "     --------------------------- --------- 417.1/568.0 MB 19.4 MB/s eta 0:00:08\n",
      "     --------------------------- --------- 421.3/568.0 MB 19.4 MB/s eta 0:00:08\n",
      "     --------------------------- --------- 425.7/568.0 MB 19.4 MB/s eta 0:00:08\n",
      "     ---------------------------- -------- 429.9/568.0 MB 19.4 MB/s eta 0:00:08\n",
      "     ---------------------------- -------- 434.1/568.0 MB 19.4 MB/s eta 0:00:07\n",
      "     ---------------------------- -------- 438.3/568.0 MB 19.4 MB/s eta 0:00:07\n",
      "     ---------------------------- -------- 442.8/568.0 MB 19.4 MB/s eta 0:00:07\n",
      "     ----------------------------- ------- 446.7/568.0 MB 19.4 MB/s eta 0:00:07\n",
      "     ----------------------------- ------- 451.1/568.0 MB 19.4 MB/s eta 0:00:07\n",
      "     ----------------------------- ------- 455.3/568.0 MB 19.4 MB/s eta 0:00:06\n",
      "     ----------------------------- ------- 459.5/568.0 MB 19.3 MB/s eta 0:00:06\n",
      "     ------------------------------ ------ 463.2/568.0 MB 19.3 MB/s eta 0:00:06\n",
      "     ------------------------------ ------ 467.4/568.0 MB 19.3 MB/s eta 0:00:06\n",
      "     ------------------------------ ------ 470.8/568.0 MB 19.2 MB/s eta 0:00:06\n",
      "     ------------------------------ ------ 474.5/568.0 MB 19.2 MB/s eta 0:00:05\n",
      "     ------------------------------- ----- 478.9/568.0 MB 19.2 MB/s eta 0:00:05\n",
      "     ------------------------------- ----- 483.1/568.0 MB 19.2 MB/s eta 0:00:05\n",
      "     ------------------------------- ----- 487.6/568.0 MB 19.2 MB/s eta 0:00:05\n",
      "     -------------------------------- ---- 492.0/568.0 MB 19.2 MB/s eta 0:00:04\n",
      "     -------------------------------- ---- 496.2/568.0 MB 19.2 MB/s eta 0:00:04\n",
      "     -------------------------------- ---- 500.4/568.0 MB 19.2 MB/s eta 0:00:04\n",
      "     -------------------------------- ---- 504.9/568.0 MB 19.2 MB/s eta 0:00:04\n",
      "     --------------------------------- --- 509.1/568.0 MB 19.2 MB/s eta 0:00:04\n",
      "     --------------------------------- --- 513.5/568.0 MB 19.2 MB/s eta 0:00:03\n",
      "     --------------------------------- --- 518.0/568.0 MB 19.2 MB/s eta 0:00:03\n",
      "     ---------------------------------- -- 522.2/568.0 MB 19.2 MB/s eta 0:00:03\n",
      "     ---------------------------------- -- 526.6/568.0 MB 19.2 MB/s eta 0:00:03\n",
      "     ---------------------------------- -- 531.1/568.0 MB 19.2 MB/s eta 0:00:02\n",
      "     ---------------------------------- -- 535.3/568.0 MB 19.2 MB/s eta 0:00:02\n",
      "     ----------------------------------- - 539.5/568.0 MB 19.3 MB/s eta 0:00:02\n",
      "     ----------------------------------- - 543.9/568.0 MB 19.3 MB/s eta 0:00:02\n",
      "     ----------------------------------- - 548.4/568.0 MB 19.3 MB/s eta 0:00:02\n",
      "     ----------------------------------- - 552.6/568.0 MB 19.3 MB/s eta 0:00:01\n",
      "     ------------------------------------  557.1/568.0 MB 19.3 MB/s eta 0:00:01\n",
      "     ------------------------------------  561.3/568.0 MB 19.3 MB/s eta 0:00:01\n",
      "     ------------------------------------  565.7/568.0 MB 19.3 MB/s eta 0:00:01\n",
      "     ------------------------------------  567.8/568.0 MB 19.3 MB/s eta 0:00:01\n",
      "     ------------------------------------  567.8/568.0 MB 19.3 MB/s eta 0:00:01\n",
      "     ------------------------------------  567.8/568.0 MB 19.3 MB/s eta 0:00:01\n",
      "     ------------------------------------  567.8/568.0 MB 19.3 MB/s eta 0:00:01\n",
      "     ------------------------------------  567.8/568.0 MB 19.3 MB/s eta 0:00:01\n",
      "     ------------------------------------  567.8/568.0 MB 19.3 MB/s eta 0:00:01\n",
      "     ------------------------------------  567.8/568.0 MB 19.3 MB/s eta 0:00:01\n",
      "     ---------------------------------------- 568.0/568.0 MB 17.5 MB/s  0:00:30\n",
      "\u001b[38;5;2m✔ Download and installation successful\u001b[0m\n",
      "You can now load the package via spacy.load('es_core_news_lg')\n"
     ]
    }
   ],
   "source": [
    "!python -m spacy download es_core_news_lg"
   ]
  },
  {
   "cell_type": "code",
   "execution_count": 13,
   "id": "b0e447d5",
   "metadata": {},
   "outputs": [
    {
     "name": "stdout",
     "output_type": "stream",
     "text": [
      "Minuta No. 0 10 LOC\n",
      "Departamento de Seguridad Informática 33 70 ORG\n",
      "Coordinación General de Tecnologías de Información y 97 149 ORG\n",
      "Comunicación Participantes 1.-López Tun Laura Guadalupe(laura.tun 150 215 ORG\n",
      "Zel Israel 227 237 LOC\n",
      "Josué 3.-Pérez Segura Wilberth de Jesús 238 277 PER\n",
      "Día Proxima Reunión Acuerdo: Estimada Laura 289 332 MISC\n",
      "internet 409 417 MISC\n"
     ]
    }
   ],
   "source": [
    "nlp = spacy.load(\"es_core_news_lg\")\n",
    "doc = nlp(\"Minuta No. 731.- Actividades del Departamento de Seguridad Informática (Junio 2020) Dependencia: Coordinación General de Tecnologías de Información y Comunicación Participantes 1.-López Tun Laura Guadalupe(laura.tun) 2.-Novelo Zel Israel Josué 3.-Pérez Segura Wilberth de Jesús .Orden del Día Proxima Reunión Acuerdo: Estimada Laura: Se solicita su amable apoyo para la aplicación de permisos de acceso desde internet al monitor salud\")\n",
    "\n",
    "for ent in doc.ents:\n",
    "    print(ent.text, ent.start_char, ent.end_char, ent.label_)"
   ]
  },
  {
   "cell_type": "code",
   "execution_count": 15,
   "id": "4ad4c05d",
   "metadata": {},
   "outputs": [
    {
     "name": "stdout",
     "output_type": "stream",
     "text": [
      "Yucatán.- La mañana de este lunes 6 39 LOC\n",
      "carretera Umán-Mérida 77 98 LOC\n",
      "Policía Municipal de Umán 744 769 LOC\n"
     ]
    }
   ],
   "source": [
    "nlp = spacy.load(\"es_core_news_lg\")\n",
    "doc = nlp(\"UMÁN, Yucatán.- La mañana de este lunes, se registró un accidente vial en la carretera Umán-Mérida, en el que un motociclistas resultó lesionado.La información recabada señala que, cerca de las 8:00 de la mañana, por la vía señala transitaba un motociclista y, al llegar a la altura del kilómetro 17 observó que un tráiler se incorporó a la carretera y al hacerlo invadió el carril por el que él transitaba. La inesperada maniobra del conductor del tráiler tomó por sorpresa al motociclista que no pudo hacer nada para evitar terminar debajo de uno de los ejes de la pesada unidad y ser arrastrado por varios metros.Testigos de los hechos dieron aviso a los servicios de emergencias a través del número 9-1-1. Al lugar llegaron elementos de la Policía Municipal de Umán que encontraron al motociclista, identificado como R. A. S.C., de 18 años de edad, quien quedó debajo del camión y fue arrastrado por varios metros y fue valorado debido a los golpes y raspones que sufrió. Los involucrados en el hecho de tránsito llegaron a un acuerdo sobre el pago de los daños y firmaron la hoja de deslinde de responsabilidades.\")\n",
    "\n",
    "for ent in doc.ents:\n",
    "    if ent.label_ in [\"LOC\"]:\n",
    "        print(ent.text, ent.start_char, ent.end_char, ent.label_)\n",
    "    "
   ]
  }
 ],
 "metadata": {
  "kernelspec": {
   "display_name": ".venv",
   "language": "python",
   "name": "python3"
  },
  "language_info": {
   "codemirror_mode": {
    "name": "ipython",
    "version": 3
   },
   "file_extension": ".py",
   "mimetype": "text/x-python",
   "name": "python",
   "nbconvert_exporter": "python",
   "pygments_lexer": "ipython3",
   "version": "3.13.1"
  }
 },
 "nbformat": 4,
 "nbformat_minor": 5
}
