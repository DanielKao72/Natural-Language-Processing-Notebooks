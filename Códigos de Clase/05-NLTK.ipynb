{
 "cells": [
  {
   "cell_type": "code",
   "execution_count": 2,
   "id": "d48c1122",
   "metadata": {},
   "outputs": [],
   "source": [
    "import nltk"
   ]
  },
  {
   "cell_type": "code",
   "execution_count": 3,
   "id": "8b90ce75",
   "metadata": {},
   "outputs": [
    {
     "name": "stdout",
     "output_type": "stream",
     "text": [
      "showing info https://raw.githubusercontent.com/nltk/nltk_data/gh-pages/index.xml\n"
     ]
    },
    {
     "data": {
      "text/plain": [
       "True"
      ]
     },
     "execution_count": 3,
     "metadata": {},
     "output_type": "execute_result"
    }
   ],
   "source": [
    "nltk.download()"
   ]
  },
  {
   "cell_type": "code",
   "execution_count": 4,
   "id": "6f27740f",
   "metadata": {},
   "outputs": [
    {
     "data": {
      "text/plain": [
       "['de',\n",
       " 'la',\n",
       " 'que',\n",
       " 'el',\n",
       " 'en',\n",
       " 'y',\n",
       " 'a',\n",
       " 'los',\n",
       " 'del',\n",
       " 'se',\n",
       " 'las',\n",
       " 'por',\n",
       " 'un',\n",
       " 'para',\n",
       " 'con',\n",
       " 'no',\n",
       " 'una',\n",
       " 'su',\n",
       " 'al',\n",
       " 'lo',\n",
       " 'como',\n",
       " 'más',\n",
       " 'pero',\n",
       " 'sus',\n",
       " 'le',\n",
       " 'ya',\n",
       " 'o',\n",
       " 'este',\n",
       " 'sí',\n",
       " 'porque',\n",
       " 'esta',\n",
       " 'entre',\n",
       " 'cuando',\n",
       " 'muy',\n",
       " 'sin',\n",
       " 'sobre',\n",
       " 'también',\n",
       " 'me',\n",
       " 'hasta',\n",
       " 'hay',\n",
       " 'donde',\n",
       " 'quien',\n",
       " 'desde',\n",
       " 'todo',\n",
       " 'nos',\n",
       " 'durante',\n",
       " 'todos',\n",
       " 'uno',\n",
       " 'les',\n",
       " 'ni',\n",
       " 'contra',\n",
       " 'otros',\n",
       " 'ese',\n",
       " 'eso',\n",
       " 'ante',\n",
       " 'ellos',\n",
       " 'e',\n",
       " 'esto',\n",
       " 'mí',\n",
       " 'antes',\n",
       " 'algunos',\n",
       " 'qué',\n",
       " 'unos',\n",
       " 'yo',\n",
       " 'otro',\n",
       " 'otras',\n",
       " 'otra',\n",
       " 'él',\n",
       " 'tanto',\n",
       " 'esa',\n",
       " 'estos',\n",
       " 'mucho',\n",
       " 'quienes',\n",
       " 'nada',\n",
       " 'muchos',\n",
       " 'cual',\n",
       " 'poco',\n",
       " 'ella',\n",
       " 'estar',\n",
       " 'estas',\n",
       " 'algunas',\n",
       " 'algo',\n",
       " 'nosotros',\n",
       " 'mi',\n",
       " 'mis',\n",
       " 'tú',\n",
       " 'te',\n",
       " 'ti',\n",
       " 'tu',\n",
       " 'tus',\n",
       " 'ellas',\n",
       " 'nosotras',\n",
       " 'vosotros',\n",
       " 'vosotras',\n",
       " 'os',\n",
       " 'mío',\n",
       " 'mía',\n",
       " 'míos',\n",
       " 'mías',\n",
       " 'tuyo',\n",
       " 'tuya',\n",
       " 'tuyos',\n",
       " 'tuyas',\n",
       " 'suyo',\n",
       " 'suya',\n",
       " 'suyos',\n",
       " 'suyas',\n",
       " 'nuestro',\n",
       " 'nuestra',\n",
       " 'nuestros',\n",
       " 'nuestras',\n",
       " 'vuestro',\n",
       " 'vuestra',\n",
       " 'vuestros',\n",
       " 'vuestras',\n",
       " 'esos',\n",
       " 'esas',\n",
       " 'estoy',\n",
       " 'estás',\n",
       " 'está',\n",
       " 'estamos',\n",
       " 'estáis',\n",
       " 'están',\n",
       " 'esté',\n",
       " 'estés',\n",
       " 'estemos',\n",
       " 'estéis',\n",
       " 'estén',\n",
       " 'estaré',\n",
       " 'estarás',\n",
       " 'estará',\n",
       " 'estaremos',\n",
       " 'estaréis',\n",
       " 'estarán',\n",
       " 'estaría',\n",
       " 'estarías',\n",
       " 'estaríamos',\n",
       " 'estaríais',\n",
       " 'estarían',\n",
       " 'estaba',\n",
       " 'estabas',\n",
       " 'estábamos',\n",
       " 'estabais',\n",
       " 'estaban',\n",
       " 'estuve',\n",
       " 'estuviste',\n",
       " 'estuvo',\n",
       " 'estuvimos',\n",
       " 'estuvisteis',\n",
       " 'estuvieron',\n",
       " 'estuviera',\n",
       " 'estuvieras',\n",
       " 'estuviéramos',\n",
       " 'estuvierais',\n",
       " 'estuvieran',\n",
       " 'estuviese',\n",
       " 'estuvieses',\n",
       " 'estuviésemos',\n",
       " 'estuvieseis',\n",
       " 'estuviesen',\n",
       " 'estando',\n",
       " 'estado',\n",
       " 'estada',\n",
       " 'estados',\n",
       " 'estadas',\n",
       " 'estad',\n",
       " 'he',\n",
       " 'has',\n",
       " 'ha',\n",
       " 'hemos',\n",
       " 'habéis',\n",
       " 'han',\n",
       " 'haya',\n",
       " 'hayas',\n",
       " 'hayamos',\n",
       " 'hayáis',\n",
       " 'hayan',\n",
       " 'habré',\n",
       " 'habrás',\n",
       " 'habrá',\n",
       " 'habremos',\n",
       " 'habréis',\n",
       " 'habrán',\n",
       " 'habría',\n",
       " 'habrías',\n",
       " 'habríamos',\n",
       " 'habríais',\n",
       " 'habrían',\n",
       " 'había',\n",
       " 'habías',\n",
       " 'habíamos',\n",
       " 'habíais',\n",
       " 'habían',\n",
       " 'hube',\n",
       " 'hubiste',\n",
       " 'hubo',\n",
       " 'hubimos',\n",
       " 'hubisteis',\n",
       " 'hubieron',\n",
       " 'hubiera',\n",
       " 'hubieras',\n",
       " 'hubiéramos',\n",
       " 'hubierais',\n",
       " 'hubieran',\n",
       " 'hubiese',\n",
       " 'hubieses',\n",
       " 'hubiésemos',\n",
       " 'hubieseis',\n",
       " 'hubiesen',\n",
       " 'habiendo',\n",
       " 'habido',\n",
       " 'habida',\n",
       " 'habidos',\n",
       " 'habidas',\n",
       " 'soy',\n",
       " 'eres',\n",
       " 'es',\n",
       " 'somos',\n",
       " 'sois',\n",
       " 'son',\n",
       " 'sea',\n",
       " 'seas',\n",
       " 'seamos',\n",
       " 'seáis',\n",
       " 'sean',\n",
       " 'seré',\n",
       " 'serás',\n",
       " 'será',\n",
       " 'seremos',\n",
       " 'seréis',\n",
       " 'serán',\n",
       " 'sería',\n",
       " 'serías',\n",
       " 'seríamos',\n",
       " 'seríais',\n",
       " 'serían',\n",
       " 'era',\n",
       " 'eras',\n",
       " 'éramos',\n",
       " 'erais',\n",
       " 'eran',\n",
       " 'fui',\n",
       " 'fuiste',\n",
       " 'fue',\n",
       " 'fuimos',\n",
       " 'fuisteis',\n",
       " 'fueron',\n",
       " 'fuera',\n",
       " 'fueras',\n",
       " 'fuéramos',\n",
       " 'fuerais',\n",
       " 'fueran',\n",
       " 'fuese',\n",
       " 'fueses',\n",
       " 'fuésemos',\n",
       " 'fueseis',\n",
       " 'fuesen',\n",
       " 'sintiendo',\n",
       " 'sentido',\n",
       " 'sentida',\n",
       " 'sentidos',\n",
       " 'sentidas',\n",
       " 'siente',\n",
       " 'sentid',\n",
       " 'tengo',\n",
       " 'tienes',\n",
       " 'tiene',\n",
       " 'tenemos',\n",
       " 'tenéis',\n",
       " 'tienen',\n",
       " 'tenga',\n",
       " 'tengas',\n",
       " 'tengamos',\n",
       " 'tengáis',\n",
       " 'tengan',\n",
       " 'tendré',\n",
       " 'tendrás',\n",
       " 'tendrá',\n",
       " 'tendremos',\n",
       " 'tendréis',\n",
       " 'tendrán',\n",
       " 'tendría',\n",
       " 'tendrías',\n",
       " 'tendríamos',\n",
       " 'tendríais',\n",
       " 'tendrían',\n",
       " 'tenía',\n",
       " 'tenías',\n",
       " 'teníamos',\n",
       " 'teníais',\n",
       " 'tenían',\n",
       " 'tuve',\n",
       " 'tuviste',\n",
       " 'tuvo',\n",
       " 'tuvimos',\n",
       " 'tuvisteis',\n",
       " 'tuvieron',\n",
       " 'tuviera',\n",
       " 'tuvieras',\n",
       " 'tuviéramos',\n",
       " 'tuvierais',\n",
       " 'tuvieran',\n",
       " 'tuviese',\n",
       " 'tuvieses',\n",
       " 'tuviésemos',\n",
       " 'tuvieseis',\n",
       " 'tuviesen',\n",
       " 'teniendo',\n",
       " 'tenido',\n",
       " 'tenida',\n",
       " 'tenidos',\n",
       " 'tenidas',\n",
       " 'tened']"
      ]
     },
     "execution_count": 4,
     "metadata": {},
     "output_type": "execute_result"
    }
   ],
   "source": [
    "palabras_vacías = nltk.corpus.stopwords.words('spanish')\n",
    "palabras_vacías"
   ]
  },
  {
   "cell_type": "code",
   "execution_count": 5,
   "id": "2a4ff85c",
   "metadata": {},
   "outputs": [
    {
     "name": "stdout",
     "output_type": "stream",
     "text": [
      "['God', 'is', 'great', '!', 'I', 'won', 'a', 'lottery']\n",
      "['¡Hoy', 'me', 'siento', 'muy', 'bien', '!']\n"
     ]
    }
   ],
   "source": [
    "from nltk.tokenize import word_tokenize\n",
    "\n",
    "texto = \"God is great! I won a lottery\"\n",
    "texto_espanol = \"¡Hoy me siento muy bien!\"\n",
    "print(word_tokenize(texto))\n",
    "print(word_tokenize(texto_espanol))"
   ]
  },
  {
   "cell_type": "code",
   "execution_count": 6,
   "id": "0a68631e",
   "metadata": {},
   "outputs": [
    {
     "name": "stdout",
     "output_type": "stream",
     "text": [
      "['¡Hoy me siento muy bien!', '¿Y tú?', 'Yo hice ejercicio por la mañana.']\n"
     ]
    }
   ],
   "source": [
    "from nltk.tokenize import sent_tokenize\n",
    "\n",
    "texto = \"¡Hoy me siento muy bien! ¿Y tú? Yo hice ejercicio por la mañana.\"\n",
    "print(sent_tokenize(texto))"
   ]
  },
  {
   "cell_type": "code",
   "execution_count": 7,
   "id": "90cc5736",
   "metadata": {},
   "outputs": [
    {
     "name": "stdout",
     "output_type": "stream",
     "text": [
      "*** Introductory Examples for the NLTK Book ***\n",
      "Loading text1, ..., text9 and sent1, ..., sent9\n",
      "Type the name of the text or sentence to view it.\n",
      "Type: 'texts()' or 'sents()' to list the materials.\n",
      "text1: Moby Dick by Herman Melville 1851\n",
      "text2: Sense and Sensibility by Jane Austen 1811\n",
      "text3: The Book of Genesis\n",
      "text4: Inaugural Address Corpus\n",
      "text5: Chat Corpus\n",
      "text6: Monty Python and the Holy Grail\n",
      "text7: Wall Street Journal\n",
      "text8: Personals Corpus\n",
      "text9: The Man Who Was Thursday by G . K . Chesterton 1908\n"
     ]
    }
   ],
   "source": [
    "from nltk.book import *"
   ]
  },
  {
   "cell_type": "code",
   "execution_count": 8,
   "id": "405335c2",
   "metadata": {},
   "outputs": [
    {
     "name": "stdout",
     "output_type": "stream",
     "text": [
      "Displaying 11 of 11 matches:\n",
      "ong the former , one was of a most monstrous size . ... This came towards us , \n",
      "ON OF THE PSALMS . \" Touching that monstrous bulk of the whale or ork we have r\n",
      "ll over with a heathenish array of monstrous clubs and spears . Some were thick\n",
      "d as you gazed , and wondered what monstrous cannibal and savage could ever hav\n",
      "that has survived the flood ; most monstrous and most mountainous ! That Himmal\n",
      "they might scout at Moby Dick as a monstrous fable , or still worse and more de\n",
      "th of Radney .'\" CHAPTER 55 Of the Monstrous Pictures of Whales . I shall ere l\n",
      "ing Scenes . In connexion with the monstrous pictures of whales , I am strongly\n",
      "ere to enter upon those still more monstrous stories of them which are to be fo\n",
      "ght have been rummaged out of this monstrous cabinet there is no telling . But \n",
      "of Whale - Bones ; for Whales of a monstrous size are oftentimes cast up dead u\n"
     ]
    }
   ],
   "source": [
    "text1.concordance(\"monstrous\")"
   ]
  },
  {
   "cell_type": "code",
   "execution_count": 9,
   "id": "e2abf8f9",
   "metadata": {},
   "outputs": [
    {
     "name": "stdout",
     "output_type": "stream",
     "text": [
      "Displaying 12 of 12 matches:\n",
      " duties , for the suppression of the slave trade and of piracy in the neighbori\n",
      "f great evils to the master , to the slave , and to the whole country . It has \n",
      " is not a very material one . If the slave is to be surrendered , it can be of \n",
      " be not in any case surrendered as a slave ? And might it not be well at the sa\n",
      "substantial dispute . The fugitive - slave clause of the Constitution and the l\n",
      "w for the suppression of the foreign slave trade are each as well enforced , pe\n",
      "e sections than before . The foreign slave trade , now imperfectly suppressed ,\n",
      "e civil strife have been to free the slave and make him a citizen . Yet he is n\n",
      " liberated the master as well as the slave from a relation which wronged and en\n",
      " liberator of the old , a story of a slave - holding society that became a serv\n",
      "master , and no one deserves to be a slave . Advancing these ideals is the miss\n",
      "ty and equality could survive half - slave and half - free . We made ourselves \n"
     ]
    }
   ],
   "source": [
    "text4.concordance(\"slave\")"
   ]
  },
  {
   "cell_type": "code",
   "execution_count": 10,
   "id": "565a15e8",
   "metadata": {},
   "outputs": [
    {
     "name": "stdout",
     "output_type": "stream",
     "text": [
      "good whale long sea vast whole other living large dead small more much\n",
      "mighty such same sperm last old before\n"
     ]
    }
   ],
   "source": [
    "text1.similar(\"great\")"
   ]
  },
  {
   "cell_type": "code",
   "execution_count": 11,
   "id": "39b9b5d7",
   "metadata": {},
   "outputs": [
    {
     "data": {
      "image/png": "[encoded data removed]",
      "text/plain": [
       "<Figure size 640x480 with 1 Axes>"
      ]
     },
     "metadata": {},
     "output_type": "display_data"
    }
   ],
   "source": [
    "text4.dispersion_plot([\"citizens\", \"democracy\", \"freedom\", \"duties\", \"America\"])"
   ]
  },
  {
   "cell_type": "code",
   "execution_count": 14,
   "id": "4d5a6451",
   "metadata": {},
   "outputs": [],
   "source": [
    "def obtener_riqueza_lexica(texto):\n",
    "    tokens = texto\n",
    "    tokens_unicos = set(tokens)\n",
    "    cantidad_tokens = len(tokens)\n",
    "    cantidad_tokens_unicos = len(tokens_unicos)\n",
    "    riqueza_lexica = cantidad_tokens_unicos / cantidad_tokens\n",
    "    \n",
    "    return riqueza_lexica"
   ]
  },
  {
   "cell_type": "code",
   "execution_count": 15,
   "id": "5035cee9",
   "metadata": {},
   "outputs": [
    {
     "name": "stdout",
     "output_type": "stream",
     "text": [
      "0.07406285585022564\n",
      "0.04826383002768831\n"
     ]
    }
   ],
   "source": [
    "print(obtener_riqueza_lexica(text1))\n",
    "print(obtener_riqueza_lexica(text2))"
   ]
  },
  {
   "cell_type": "code",
   "execution_count": 17,
   "id": "184ad5a8",
   "metadata": {},
   "outputs": [
    {
     "data": {
      "text/plain": [
       "['austen-emma.txt',\n",
       " 'austen-persuasion.txt',\n",
       " 'austen-sense.txt',\n",
       " 'bible-kjv.txt',\n",
       " 'blake-poems.txt',\n",
       " 'bryant-stories.txt',\n",
       " 'burgess-busterbrown.txt',\n",
       " 'carroll-alice.txt',\n",
       " 'chesterton-ball.txt',\n",
       " 'chesterton-brown.txt',\n",
       " 'chesterton-thursday.txt',\n",
       " 'edgeworth-parents.txt',\n",
       " 'melville-moby_dick.txt',\n",
       " 'milton-paradise.txt',\n",
       " 'shakespeare-caesar.txt',\n",
       " 'shakespeare-hamlet.txt',\n",
       " 'shakespeare-macbeth.txt',\n",
       " 'whitman-leaves.txt']"
      ]
     },
     "execution_count": 17,
     "metadata": {},
     "output_type": "execute_result"
    }
   ],
   "source": [
    "nltk.corpus.gutenberg.fileids()"
   ]
  },
  {
   "cell_type": "code",
   "execution_count": 19,
   "id": "1e9ad33f",
   "metadata": {},
   "outputs": [
    {
     "name": "stdout",
     "output_type": "stream",
     "text": [
      "blake-poems.txt\n"
     ]
    }
   ],
   "source": [
    "most_lexical_rich = max(nltk.corpus.gutenberg.fileids(), key=lambda file: obtener_riqueza_lexica(nltk.corpus.gutenberg.words(file)))\n",
    "print(most_lexical_rich)"
   ]
  },
  {
   "cell_type": "code",
   "execution_count": 22,
   "id": "11bcee92",
   "metadata": {},
   "outputs": [
    {
     "name": "stdout",
     "output_type": "stream",
     "text": [
      "austen-emma.txt: 0.04059201671283136\n",
      "austen-persuasion.txt: 0.062462437990852694\n",
      "austen-sense.txt: 0.04826383002768831\n",
      "bible-kjv.txt: 0.01362385148626533\n",
      "blake-poems.txt: 0.2178597079243476\n",
      "bryant-stories.txt: 0.07954934038838796\n",
      "burgess-busterbrown.txt: 0.09302325581395349\n",
      "carroll-alice.txt: 0.08841981823512167\n",
      "chesterton-ball.txt: 0.09224091715122273\n",
      "chesterton-brown.txt: 0.09642935988752425\n",
      "chesterton-thursday.txt: 0.0983485761345412\n",
      "edgeworth-parents.txt: 0.04553718498265001\n",
      "melville-moby_dick.txt: 0.07406285585022564\n",
      "milton-paradise.txt: 0.11103537309579138\n",
      "shakespeare-caesar.txt: 0.1378082297836101\n",
      "shakespeare-hamlet.txt: 0.14579764453961455\n",
      "shakespeare-macbeth.txt: 0.17359550561797754\n",
      "whitman-leaves.txt: 0.09251499518991756\n"
     ]
    }
   ],
   "source": [
    "max_lexical_rich = -1;\n",
    "title_most_lexical_rich = \"\"\n",
    "for text in nltk.corpus.gutenberg.fileids():\n",
    "    lexical_rich = obtener_riqueza_lexica(nltk.corpus.gutenberg.words(text))\n",
    "    if lexical_rich > max_lexical_rich:\n",
    "        max_lexical_rich = lexical_rich\n",
    "        title_most_lexical_rich = text\n",
    "    print(f\"{text}: {lexical_rich}\") "
   ]
  },
  {
   "cell_type": "code",
   "execution_count": 23,
   "id": "84c1e945",
   "metadata": {},
   "outputs": [
    {
     "name": "stdout",
     "output_type": "stream",
     "text": [
      "blake-poems.txt tiene la mayor riqueza lexica: 0.2178597079243476\n"
     ]
    }
   ],
   "source": [
    "print(f\"{title_most_lexical_rich} tiene la mayor riqueza lexica: {max_lexical_rich}\")"
   ]
  },
  {
   "cell_type": "code",
   "execution_count": 26,
   "id": "ebe31a84",
   "metadata": {},
   "outputs": [],
   "source": [
    "from nltk import CFG"
   ]
  },
  {
   "cell_type": "code",
   "execution_count": 30,
   "id": "b09da312",
   "metadata": {},
   "outputs": [
    {
     "ename": "ValueError",
     "evalue": "Grammar does not cover some of the input words: \"'dog'\".",
     "output_type": "error",
     "traceback": [
      "\u001b[31m---------------------------------------------------------------------------\u001b[39m",
      "\u001b[31mValueError\u001b[39m                                Traceback (most recent call last)",
      "\u001b[36mCell\u001b[39m\u001b[36m \u001b[39m\u001b[32mIn[30]\u001b[39m\u001b[32m, line 12\u001b[39m\n\u001b[32m     10\u001b[39m oración = sentencia.split()\n\u001b[32m     11\u001b[39m parser = nltk.ChartParser(gramatica)\n\u001b[32m---> \u001b[39m\u001b[32m12\u001b[39m \u001b[38;5;28;01mfor\u001b[39;00m tree \u001b[38;5;129;01min\u001b[39;00m \u001b[43mparser\u001b[49m\u001b[43m.\u001b[49m\u001b[43mparse\u001b[49m\u001b[43m(\u001b[49m\u001b[43moración\u001b[49m\u001b[43m)\u001b[49m:\n\u001b[32m     13\u001b[39m     tree.pretty_print()\n",
      "\u001b[36mFile \u001b[39m\u001b[32mc:\\Users\\danik\\Documents\\Repositorios\\Natural-Language-Processing-Notebooks\\.venv\\Lib\\site-packages\\nltk\\parse\\chart.py:1474\u001b[39m, in \u001b[36mChartParser.parse\u001b[39m\u001b[34m(self, tokens, tree_class)\u001b[39m\n\u001b[32m   1473\u001b[39m \u001b[38;5;28;01mdef\u001b[39;00m\u001b[38;5;250m \u001b[39m\u001b[34mparse\u001b[39m(\u001b[38;5;28mself\u001b[39m, tokens, tree_class=Tree):\n\u001b[32m-> \u001b[39m\u001b[32m1474\u001b[39m     chart = \u001b[38;5;28;43mself\u001b[39;49m\u001b[43m.\u001b[49m\u001b[43mchart_parse\u001b[49m\u001b[43m(\u001b[49m\u001b[43mtokens\u001b[49m\u001b[43m)\u001b[49m\n\u001b[32m   1475\u001b[39m     \u001b[38;5;28;01mreturn\u001b[39;00m \u001b[38;5;28miter\u001b[39m(chart.parses(\u001b[38;5;28mself\u001b[39m._grammar.start(), tree_class=tree_class))\n",
      "\u001b[36mFile \u001b[39m\u001b[32mc:\\Users\\danik\\Documents\\Repositorios\\Natural-Language-Processing-Notebooks\\.venv\\Lib\\site-packages\\nltk\\parse\\chart.py:1432\u001b[39m, in \u001b[36mChartParser.chart_parse\u001b[39m\u001b[34m(self, tokens, trace)\u001b[39m\n\u001b[32m   1429\u001b[39m trace_new_edges = \u001b[38;5;28mself\u001b[39m._trace_new_edges\n\u001b[32m   1431\u001b[39m tokens = \u001b[38;5;28mlist\u001b[39m(tokens)\n\u001b[32m-> \u001b[39m\u001b[32m1432\u001b[39m \u001b[38;5;28;43mself\u001b[39;49m\u001b[43m.\u001b[49m\u001b[43m_grammar\u001b[49m\u001b[43m.\u001b[49m\u001b[43mcheck_coverage\u001b[49m\u001b[43m(\u001b[49m\u001b[43mtokens\u001b[49m\u001b[43m)\u001b[49m\n\u001b[32m   1433\u001b[39m chart = \u001b[38;5;28mself\u001b[39m._chart_class(tokens)\n\u001b[32m   1434\u001b[39m grammar = \u001b[38;5;28mself\u001b[39m._grammar\n",
      "\u001b[36mFile \u001b[39m\u001b[32mc:\\Users\\danik\\Documents\\Repositorios\\Natural-Language-Processing-Notebooks\\.venv\\Lib\\site-packages\\nltk\\grammar.py:666\u001b[39m, in \u001b[36mCFG.check_coverage\u001b[39m\u001b[34m(self, tokens)\u001b[39m\n\u001b[32m    664\u001b[39m \u001b[38;5;28;01mif\u001b[39;00m missing:\n\u001b[32m    665\u001b[39m     missing = \u001b[33m\"\u001b[39m\u001b[33m, \u001b[39m\u001b[33m\"\u001b[39m.join(\u001b[33mf\u001b[39m\u001b[33m\"\u001b[39m\u001b[38;5;132;01m{\u001b[39;00mw\u001b[38;5;132;01m!r}\u001b[39;00m\u001b[33m\"\u001b[39m \u001b[38;5;28;01mfor\u001b[39;00m w \u001b[38;5;129;01min\u001b[39;00m missing)\n\u001b[32m--> \u001b[39m\u001b[32m666\u001b[39m     \u001b[38;5;28;01mraise\u001b[39;00m \u001b[38;5;167;01mValueError\u001b[39;00m(\n\u001b[32m    667\u001b[39m         \u001b[33m\"\u001b[39m\u001b[33mGrammar does not cover some of the \u001b[39m\u001b[33m\"\u001b[39m \u001b[33m\"\u001b[39m\u001b[33minput words: \u001b[39m\u001b[38;5;132;01m%r\u001b[39;00m\u001b[33m.\u001b[39m\u001b[33m\"\u001b[39m % missing\n\u001b[32m    668\u001b[39m     )\n",
      "\u001b[31mValueError\u001b[39m: Grammar does not cover some of the input words: \"'dog'\"."
     ]
    }
   ],
   "source": [
    "gramatica = CFG.fromstring(\"\"\"\n",
    "S -> NP VP\n",
    "VP -> V NP | VP PP\n",
    "PP -> P NP\n",
    "NP -> Det N | Det N PP | 'I'\n",
    "V -> 'saw' | 'ate' | 'walked'\n",
    "Det -> 'a' | 'an' | 'the' | 'my'\n",
    "\"\"\")\n",
    "sentencia = \"I saw the dog\"\n",
    "oración = sentencia.split()\n",
    "parser = nltk.ChartParser(gramatica)\n",
    "for tree in parser.parse(oración):\n",
    "    tree.pretty_print()\n",
    "    "
   ]
  },
  {
   "cell_type": "code",
   "execution_count": null,
   "id": "22775b23",
   "metadata": {},
   "outputs": [],
   "source": []
  }
 ],
 "metadata": {
  "kernelspec": {
   "display_name": ".venv",
   "language": "python",
   "name": "python3"
  },
  "language_info": {
   "codemirror_mode": {
    "name": "ipython",
    "version": 3
   },
   "file_extension": ".py",
   "mimetype": "text/x-python",
   "name": "python",
   "nbconvert_exporter": "python",
   "pygments_lexer": "ipython3",
   "version": "3.13.1"
  }
 },
 "nbformat": 4,
 "nbformat_minor": 5
}
